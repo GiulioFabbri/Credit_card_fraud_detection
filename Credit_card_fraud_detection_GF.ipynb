{
 "cells": [
  {
   "cell_type": "code",
   "execution_count": 1,
   "id": "6e8de1e1",
   "metadata": {
    "ExecuteTime": {
     "end_time": "2023-06-07T15:26:36.633523Z",
     "start_time": "2023-06-07T15:26:34.928633Z"
    }
   },
   "outputs": [],
   "source": [
    "import numpy as np\n",
    "import pandas as pd\n",
    "import matplotlib.pyplot as plt\n",
    "from sklearn . preprocessing import StandardScaler\n",
    "from sklearn . model_selection import train_test_split\n",
    "from sklearn.linear_model import LogisticRegression\n",
    "from sklearn.metrics import accuracy_score\n",
    "from sklearn.metrics import confusion_matrix\n",
    "from sklearn.pipeline import Pipeline"
   ]
  },
  {
   "attachments": {},
   "cell_type": "markdown",
   "id": "0c70d0cb",
   "metadata": {},
   "source": [
    "## Table of contents\n",
    "   \n",
    "1. Class inbalance  \n",
    "   1.1 naive model  \n",
    "   1.2 Zero model\n",
    "2. The toolbox\n",
    "3. Undersampling  \n",
    "   3.1 Logistic model  \n",
    "   3.2 Random Forest  \n",
    "   3.3 Naive bayes  \n",
    "   3.4 SVC  \n",
    "4. Identify the best model\n",
    "5. Weighted Undersampling\n",
    "6. Conclusion"
   ]
  },
  {
   "attachments": {},
   "cell_type": "markdown",
   "id": "6c44c9b9",
   "metadata": {},
   "source": [
    "# Intro"
   ]
  },
  {
   "attachments": {},
   "cell_type": "markdown",
   "id": "e98e59b8",
   "metadata": {},
   "source": [
    "In this brief study, we will try to identify the best ML model for identifying fraudulent credit card transactions, using a deeply inbalanced dataset  \n",
    "(https://www.kaggle.com/datasets/mlg-ulb/creditcardfraud).\n",
    "\n",
    "The sampling method is undersampling (1:1 ratio of target classes) which will be extended to weighted undersampling(1:100 ratio) to try to confirm our results.\n",
    "\n",
    "The models we will use are:\n",
    "1. Logistic Model\n",
    "2. Random Forest\n",
    "3. Gaussian Naive Bayes\n",
    "4. Support vector Classifier   \n",
    "\n",
    "They will be trained using scikit-learn and specifically optimized using GridSearchCV.\n"
   ]
  },
  {
   "attachments": {},
   "cell_type": "markdown",
   "id": "3c3be21b",
   "metadata": {},
   "source": [
    "# 1 Class inbalance"
   ]
  },
  {
   "cell_type": "code",
   "execution_count": 2,
   "id": "6c2d6e18",
   "metadata": {
    "ExecuteTime": {
     "end_time": "2023-06-07T15:26:44.060843Z",
     "start_time": "2023-06-07T15:26:38.602227Z"
    }
   },
   "outputs": [
    {
     "data": {
      "text/html": [
       "<div>\n",
       "<style scoped>\n",
       "    .dataframe tbody tr th:only-of-type {\n",
       "        vertical-align: middle;\n",
       "    }\n",
       "\n",
       "    .dataframe tbody tr th {\n",
       "        vertical-align: top;\n",
       "    }\n",
       "\n",
       "    .dataframe thead th {\n",
       "        text-align: right;\n",
       "    }\n",
       "</style>\n",
       "<table border=\"1\" class=\"dataframe\">\n",
       "  <thead>\n",
       "    <tr style=\"text-align: right;\">\n",
       "      <th></th>\n",
       "      <th>Class</th>\n",
       "      <th>Amount</th>\n",
       "      <th>Time</th>\n",
       "      <th>V1</th>\n",
       "      <th>V2</th>\n",
       "      <th>V3</th>\n",
       "      <th>V4</th>\n",
       "      <th>V5</th>\n",
       "      <th>V6</th>\n",
       "      <th>V7</th>\n",
       "      <th>...</th>\n",
       "      <th>V19</th>\n",
       "      <th>V20</th>\n",
       "      <th>V21</th>\n",
       "      <th>V22</th>\n",
       "      <th>V23</th>\n",
       "      <th>V24</th>\n",
       "      <th>V25</th>\n",
       "      <th>V26</th>\n",
       "      <th>V27</th>\n",
       "      <th>V28</th>\n",
       "    </tr>\n",
       "  </thead>\n",
       "  <tbody>\n",
       "    <tr>\n",
       "      <th>0</th>\n",
       "      <td>0</td>\n",
       "      <td>149.62</td>\n",
       "      <td>0.0</td>\n",
       "      <td>-1.359807</td>\n",
       "      <td>-0.072781</td>\n",
       "      <td>2.536347</td>\n",
       "      <td>1.378155</td>\n",
       "      <td>-0.338321</td>\n",
       "      <td>0.462388</td>\n",
       "      <td>0.239599</td>\n",
       "      <td>...</td>\n",
       "      <td>0.403993</td>\n",
       "      <td>0.251412</td>\n",
       "      <td>-0.018307</td>\n",
       "      <td>0.277838</td>\n",
       "      <td>-0.110474</td>\n",
       "      <td>0.066928</td>\n",
       "      <td>0.128539</td>\n",
       "      <td>-0.189115</td>\n",
       "      <td>0.133558</td>\n",
       "      <td>-0.021053</td>\n",
       "    </tr>\n",
       "    <tr>\n",
       "      <th>1</th>\n",
       "      <td>0</td>\n",
       "      <td>2.69</td>\n",
       "      <td>0.0</td>\n",
       "      <td>1.191857</td>\n",
       "      <td>0.266151</td>\n",
       "      <td>0.166480</td>\n",
       "      <td>0.448154</td>\n",
       "      <td>0.060018</td>\n",
       "      <td>-0.082361</td>\n",
       "      <td>-0.078803</td>\n",
       "      <td>...</td>\n",
       "      <td>-0.145783</td>\n",
       "      <td>-0.069083</td>\n",
       "      <td>-0.225775</td>\n",
       "      <td>-0.638672</td>\n",
       "      <td>0.101288</td>\n",
       "      <td>-0.339846</td>\n",
       "      <td>0.167170</td>\n",
       "      <td>0.125895</td>\n",
       "      <td>-0.008983</td>\n",
       "      <td>0.014724</td>\n",
       "    </tr>\n",
       "  </tbody>\n",
       "</table>\n",
       "<p>2 rows × 31 columns</p>\n",
       "</div>"
      ],
      "text/plain": [
       "   Class  Amount  Time        V1        V2        V3        V4        V5  \\\n",
       "0      0  149.62   0.0 -1.359807 -0.072781  2.536347  1.378155 -0.338321   \n",
       "1      0    2.69   0.0  1.191857  0.266151  0.166480  0.448154  0.060018   \n",
       "\n",
       "         V6        V7  ...       V19       V20       V21       V22       V23  \\\n",
       "0  0.462388  0.239599  ...  0.403993  0.251412 -0.018307  0.277838 -0.110474   \n",
       "1 -0.082361 -0.078803  ... -0.145783 -0.069083 -0.225775 -0.638672  0.101288   \n",
       "\n",
       "        V24       V25       V26       V27       V28  \n",
       "0  0.066928  0.128539 -0.189115  0.133558 -0.021053  \n",
       "1 -0.339846  0.167170  0.125895 -0.008983  0.014724  \n",
       "\n",
       "[2 rows x 31 columns]"
      ]
     },
     "execution_count": 2,
     "metadata": {},
     "output_type": "execute_result"
    }
   ],
   "source": [
    "#load data\n",
    "data= pd.read_csv(r\"C:\\Users\\Utente\\OneDrive\\Desktop\\coding_project2\\creditcard.csv\")\n",
    "\n",
    "\n",
    "#move class and amount in first position so we can clearly see the only tree variable we know\n",
    "Amount = data[\"Amount\"]\n",
    "Class = data[\"Class\"]\n",
    "data.pop(\"Class\")\n",
    "data.pop(\"Amount\")\n",
    "data.insert(0,\"Amount\", Amount)\n",
    "data.insert(0, \"Class\", Class)\n",
    "data.head(2)"
   ]
  },
  {
   "attachments": {},
   "cell_type": "markdown",
   "id": "80cfecad",
   "metadata": {},
   "source": [
    "We knew in advance that the dataset would be unbalanced.  \n",
    "Let's visualize the ratio between frauds and legit transactions."
   ]
  },
  {
   "cell_type": "code",
   "execution_count": 3,
   "id": "22cd8c3f",
   "metadata": {
    "ExecuteTime": {
     "end_time": "2023-06-07T15:47:10.154022Z",
     "start_time": "2023-06-07T15:47:09.201135Z"
    }
   },
   "outputs": [
    {
     "data": {
      "text/plain": [
       "<function matplotlib.pyplot.show(close=None, block=None)>"
      ]
     },
     "execution_count": 3,
     "metadata": {},
     "output_type": "execute_result"
    },
    {
     "data": {
      "image/png": "[encoded data removed]",
      "text/plain": [
       "<Figure size 400x500 with 1 Axes>"
      ]
     },
     "metadata": {},
     "output_type": "display_data"
    }
   ],
   "source": [
    "#pie chart\n",
    "legit_transaction= data[data.Class == 0]\n",
    "fraud_transaction= data[data.Class == 1]\n",
    "\n",
    "\n",
    "perc_legit = len(legit_transaction)/len(data)\n",
    "perc_fraud = len(fraud_transaction)/len(data)\n",
    "\n",
    "\n",
    "percentages= np.array([perc_legit, perc_fraud])\n",
    "mylables= [\"Legit\\n 99,83% \", \"Fraudolent\\n 0,17%\"]\n",
    "\n",
    "plt.figure(figsize = (4,5))\n",
    "plt.pie(percentages, labels = mylables, shadow= False)\n",
    "plt.title(\"Dataset Inbalance\\n (Legit & Fraudolent transactions)\", fontweight=\"bold\")\n",
    "\n",
    "plt.show\n"
   ]
  },
  {
   "cell_type": "code",
   "execution_count": 4,
   "id": "4f42a9ba",
   "metadata": {
    "ExecuteTime": {
     "end_time": "2023-06-07T15:26:44.271110Z",
     "start_time": "2023-06-07T15:26:44.271110Z"
    }
   },
   "outputs": [
    {
     "name": "stdout",
     "output_type": "stream",
     "text": [
      "Ratio between legit and fraud transaction is:  577.8760162601625\n"
     ]
    }
   ],
   "source": [
    "print(\"Ratio between legit and fraud transaction is: \", (perc_legit/perc_fraud))"
   ]
  },
  {
   "attachments": {},
   "cell_type": "markdown",
   "id": "2ae0a5de",
   "metadata": {},
   "source": [
    "Thus, in our dataset there are 1 fraudulent transaction for every 578 legal transactions.  \n",
    "This imbalance has strong effects on our models and accuracy measures to improve them.   \n",
    "We then check how two basic models that we will use as benchmarks of this effect, a naive logistic model and a Zero model, perform.  "
   ]
  },
  {
   "attachments": {},
   "cell_type": "markdown",
   "id": "3a99898c",
   "metadata": {},
   "source": [
    "## 1.1 Naive Model"
   ]
  },
  {
   "attachments": {},
   "cell_type": "markdown",
   "id": "7f7cb920",
   "metadata": {},
   "source": [
    "The Naive model is a logistic model that does not account for the inbalance:  \n",
    "        1. It takes all the variables  \n",
    "        2. It takes all observations without weighting them for class  \n",
    "        3. It does not perform cross validation   \n",
    "\n",
    "The model has an accuracy of 99.9 % but this is a misleading measure due to calss inbalance.\n"
   ]
  },
  {
   "cell_type": "code",
   "execution_count": 5,
   "id": "b20f68cf",
   "metadata": {
    "ExecuteTime": {
     "end_time": "2023-06-07T15:26:52.310893Z",
     "start_time": "2023-06-07T15:26:47.466694Z"
    }
   },
   "outputs": [
    {
     "name": "stdout",
     "output_type": "stream",
     "text": [
      "\u001b[1mAccuracy Naive Model: \u001b[0m 99.92 %\n"
     ]
    }
   ],
   "source": [
    "# NAIVE MODEL\n",
    "\n",
    "X = data.drop(columns='Class', axis=1) #use std features\n",
    "Y = data['Class']       \n",
    "\n",
    "x_train , x_test , y_train , y_test = train_test_split (X , Y , test_size = 0.2,\n",
    "                                                        stratify=Y,\n",
    "                                                        random_state = 0)\n",
    "\n",
    "#standardize the data\n",
    "sc = StandardScaler ()\n",
    "x_train = sc.fit_transform ( x_train )\n",
    "x_test = sc.transform ( x_test )\n",
    "\n",
    "\n",
    "#train and predict using the model\n",
    "model = LogisticRegression(random_state= 0)\n",
    "naive_model = model.fit(x_train, y_train)\n",
    "\n",
    "y_pred = naive_model.predict ( x_test )\n",
    "\n",
    "#check the accuracy \n",
    "an= str(accuracy_score(y_test,y_pred).round(4)*100)+\" %\"\n",
    "print(\"\\033[1m\" + \"Accuracy Naive Model: \" + \"\\033[0m\",an)"
   ]
  },
  {
   "attachments": {},
   "cell_type": "markdown",
   "id": "aea1f545",
   "metadata": {},
   "source": [
    "As a demostration let's see how a Zero Model that predicts always legit transactions (0) would score.\n",
    "\n"
   ]
  },
  {
   "attachments": {},
   "cell_type": "markdown",
   "id": "f1ffd70c",
   "metadata": {},
   "source": [
    "## 1.2 Zero Model"
   ]
  },
  {
   "attachments": {},
   "cell_type": "markdown",
   "id": "2dc63cf6",
   "metadata": {},
   "source": [
    "Simply classifying all transactions as legitimate would make us achieve an accuracy of 99.83% ,  \n",
    "even higer than the naive logistic model!!!"
   ]
  },
  {
   "cell_type": "code",
   "execution_count": 6,
   "id": "9a7bedd3",
   "metadata": {
    "ExecuteTime": {
     "end_time": "2023-06-07T15:26:52.576895Z",
     "start_time": "2023-06-07T15:26:52.575892Z"
    }
   },
   "outputs": [
    {
     "name": "stdout",
     "output_type": "stream",
     "text": [
      "\u001b[1mAccuracy Zero Model: \u001b[0m 99.83 %\n"
     ]
    }
   ],
   "source": [
    "#0 MODEL \n",
    "zeros =[0]* len(y_test)\n",
    "\n",
    "az = str(accuracy_score(y_test,zeros).round(4)*100)+\" %\"\n",
    "print(\"\\033[1m\" + \"Accuracy Zero Model: \" + \"\\033[0m\",az)"
   ]
  },
  {
   "attachments": {},
   "cell_type": "markdown",
   "id": "577017f7",
   "metadata": {},
   "source": [
    "So the first step is to find another measurement to test the accuracy of our models.\n",
    "\n",
    "We can have two types of error in our prediction:    \n",
    "* fraud_not_detected: The model fail to identify a fraudolent transaction  ( type 1 error )\n",
    "* false_alarm: misclassify a legal transaction as a fraudolentolent one    ( type 2 error )\n",
    "    \n",
    "In this context we will consider two assumptions:  \n",
    "  \n",
    "1. A fraud not detected is much more serious in reputational and economic terms for the bank than a legitimate transaction  misclassified as fraud \n",
    "\n",
    "<!-- -->\n",
    "2. The bank consequently prefers to minimize fraud_not_detected and not pay particular attention to false_alarms because a false allarm can be easily\n",
    "resolved by an automatic notification that ask the owner of the transaction.  \n"
   ]
  },
  {
   "attachments": {},
   "cell_type": "markdown",
   "id": "f270366e",
   "metadata": {},
   "source": [
    "# 2 The toolbox"
   ]
  },
  {
   "attachments": {},
   "cell_type": "markdown",
   "id": "1be1606d",
   "metadata": {},
   "source": [
    "Following our assumptions we create the function \"accuracy_measures\" that returns: \n",
    "1. Confusion Matrix\n",
    "2. Accuracy score  \n",
    "3. Percentage frauds not detected\n",
    "4. Percentage of false alarms  \n",
    "\n",
    "And from it we derive the  function \"frauds_not_detected\" that will be the objective function to minimize.\n",
    "\n",
    "The \"accuracy_measures\" function will also be used to check how the model performed in the training set to eavluate overfitting."
   ]
  },
  {
   "cell_type": "code",
   "execution_count": 7,
   "id": "9502bba4",
   "metadata": {
    "ExecuteTime": {
     "end_time": "2023-06-07T15:26:53.756876Z",
     "start_time": "2023-06-07T15:26:53.728876Z"
    }
   },
   "outputs": [],
   "source": [
    "#compute the perc_fraud_not dected\n",
    "def accuracy_measures(y_test,y_pred):\n",
    "    #compute confusion_matrixusion matrix\n",
    "    cm = confusion_matrix(y_test,y_pred)\n",
    "    cm = pd.DataFrame(cm, columns=(\"legit prediction\",\"fraud prediction\"), index=(\"legit \",\"fraud\"))\n",
    "    #compute percentage fraud non detected\n",
    "    perc_fraud_not_detected = ((cm.iloc[1,0]/(cm.iloc[1,1]+cm.iloc[1,0]))*100).round(2)\n",
    "    perc_fraud_not_detected = str(perc_fraud_not_detected.round(2))+\" %\"\n",
    "    \n",
    "    #compute percentage false fraud alarm\n",
    "    perc_false_alarm = ((cm.iloc[0,1]/(cm.iloc[0,0]+cm.iloc[0,1]))*100).round(2)\n",
    "    perc_false_alarm = str(perc_false_alarm.round(2))+\" %\"\n",
    "  \n",
    "\n",
    "    print(\"\\033[1m\" + \"Confusion matrix: \" + \"\\033[0m\")\n",
    "    print(cm)\n",
    "    print()\n",
    "    print(\"\\033[1m\" + \"Accuracy Score: \" + \"\\033[0m\")\n",
    "    print(str(accuracy_score(y_test,y_pred).round(4)*100)+\" %\")\n",
    "    print()\n",
    "    print(\"\\033[1m\" + \"Percentage of frauds not detected: \" + \"\\033[0m\")\n",
    "    print(perc_fraud_not_detected)\n",
    "    print()\n",
    "    print(\"\\033[1m\" + \"Percentage of false alarms: \" + \"\\033[0m\")\n",
    "    print( perc_false_alarm)\n",
    "\n",
    "def frauds_not_detected(y_test, y_pred):\n",
    "    # Compute confusion_matrix\n",
    "    cm = confusion_matrix(y_test, y_pred)\n",
    "    cm = pd.DataFrame(cm, columns=(\"legit prediction\", \"fraud prediction\"), index=(\"legit\", \"fraud\"))\n",
    "    # Compute percentage fraud not detected\n",
    "    perc_fraud_not_detected = (cm.iloc[1, 0] / (cm.iloc[1, 1] + cm.iloc[1, 0])) * 100\n",
    "    perc_fraud_not_detected = perc_fraud_not_detected.round(2)\n",
    "    return perc_fraud_not_detected"
   ]
  },
  {
   "attachments": {},
   "cell_type": "markdown",
   "id": "bfe82d4a",
   "metadata": {
    "ExecuteTime": {
     "end_time": "2023-06-07T12:20:27.839736Z",
     "start_time": "2023-06-07T12:20:27.808647Z"
    }
   },
   "source": [
    "Now we can see how rely on Accuracy is actually misleading.  \n",
    "Both Naive and 0 Model have 99% accuracy but perform very poorly in detecting the few frauds we have:\n",
    "* Naive Model doesn't identify the 35% of frauds\n",
    "* 0 model for definition has 100% fraud detection error"
   ]
  },
  {
   "cell_type": "code",
   "execution_count": 8,
   "id": "2aaf001f",
   "metadata": {
    "ExecuteTime": {
     "end_time": "2023-06-07T15:26:56.124593Z",
     "start_time": "2023-06-07T15:26:56.061865Z"
    }
   },
   "outputs": [
    {
     "name": "stdout",
     "output_type": "stream",
     "text": [
      "\u001b[1m\u001b[4mNAIVE MODEL ACCURACY\u001b[0m\n",
      "\n",
      "\u001b[1mConfusion matrix: \u001b[0m\n",
      "        legit prediction  fraud prediction\n",
      "legit              56853                11\n",
      "fraud                 35                63\n",
      "\n",
      "\u001b[1mAccuracy Score: \u001b[0m\n",
      "99.92 %\n",
      "\n",
      "\u001b[1mPercentage of frauds not detected: \u001b[0m\n",
      "35.71 %\n",
      "\n",
      "\u001b[1mPercentage of false alarms: \u001b[0m\n",
      "0.02 %\n"
     ]
    }
   ],
   "source": [
    "print('\\033[1m\\033[4mNAIVE MODEL ACCURACY\\033[0m')\n",
    "print()\n",
    "accuracy_measures( y_test , y_pred)"
   ]
  },
  {
   "cell_type": "code",
   "execution_count": 9,
   "id": "e9fd9970",
   "metadata": {
    "ExecuteTime": {
     "end_time": "2023-06-07T15:26:56.977241Z",
     "start_time": "2023-06-07T15:26:56.893233Z"
    }
   },
   "outputs": [
    {
     "name": "stdout",
     "output_type": "stream",
     "text": [
      "\u001b[1m\u001b[4m 0 MODEL ACCURACY \u001b[0m\n",
      "\n",
      "\u001b[1mConfusion matrix: \u001b[0m\n",
      "        legit prediction  fraud prediction\n",
      "legit              56864                 0\n",
      "fraud                 98                 0\n",
      "\n",
      "\u001b[1mAccuracy Score: \u001b[0m\n",
      "99.83 %\n",
      "\n",
      "\u001b[1mPercentage of frauds not detected: \u001b[0m\n",
      "100.0 %\n",
      "\n",
      "\u001b[1mPercentage of false alarms: \u001b[0m\n",
      "0.0 %\n"
     ]
    }
   ],
   "source": [
    "print(\"\\033[1m\\033[4m 0 MODEL ACCURACY \\033[0m\")\n",
    "print()\n",
    "accuracy_measures( y_test ,zeros )"
   ]
  },
  {
   "attachments": {},
   "cell_type": "markdown",
   "id": "eccfbd99",
   "metadata": {},
   "source": [
    "The \"plot_training_test_errors\" function will allow us to see how the model behaves during the Gridsearch optimization in the training set and validation set, still in order to identify overfitting."
   ]
  },
  {
   "cell_type": "code",
   "execution_count": 10,
   "id": "3776aaa2",
   "metadata": {
    "ExecuteTime": {
     "end_time": "2023-06-07T15:26:58.817536Z",
     "start_time": "2023-06-07T15:26:58.787333Z"
    }
   },
   "outputs": [],
   "source": [
    "def plot_training_test_errors(train_errors, test_errors, model):\n",
    "    \n",
    "    train_errors = abs(train_errors)\n",
    "    test_errors = abs(test_errors)\n",
    "    \n",
    "    x = range(len(train_errors))  \n",
    "    y1 = train_errors              \n",
    "    y2 = test_errors\n",
    "    \n",
    "    #iteration index of the best model choosen\n",
    "    mean_test_scores = model.cv_results_[\"mean_test_score\"]\n",
    "    best_model_index = np.argmax(mean_test_scores)\n",
    "\n",
    "    plt.figure(figsize = (7,3))\n",
    "    plt.plot(x, y1, y2)\n",
    "    plt.ylim((5,20))\n",
    "    plt.xlim([0, max(x)])\n",
    "    plt.ylim([0, max(y2)+2])\n",
    "\n",
    "    #add vertical line on the best model choosen\n",
    "    plt.axvline(best_model_index, linewidth = 2, linestyle =\"--\", color='red', ) \n",
    "    plt.grid()\n",
    "    \n",
    "    plt.legend(('Training set ','Validation set',\"Best model\"))\n",
    "    \n",
    "    plt.xlabel('Cross validation iterations')\n",
    "    plt.ylabel('Percentage frauds not detected')\n",
    "    plt.title('Percentage frauds not detected\\n in training and valdiation set',fontweight=\"bold\")\n",
    "\n",
    "    plt.show()\n"
   ]
  },
  {
   "attachments": {},
   "cell_type": "markdown",
   "id": "e894bdee",
   "metadata": {},
   "source": [
    "As a final step before starting the analysis we create two functions that allow us to save and retrieve trained models."
   ]
  },
  {
   "cell_type": "code",
   "execution_count": 11,
   "id": "3db5b03c",
   "metadata": {
    "ExecuteTime": {
     "end_time": "2023-06-07T15:27:01.809878Z",
     "start_time": "2023-06-07T15:27:01.778486Z"
    }
   },
   "outputs": [],
   "source": [
    "#FUCNTION FOR SAVING MODEL TRAINED\n",
    "import os \n",
    "import pickle\n",
    "def save_trained_mdoel(modelname):\n",
    "    # create file path\n",
    "    folder_path= r\"C:\\Users\\Utente\\OneDrive\\Desktop\\coding_project2\"\n",
    "    model_name = str(input(\"input model1 name\"))\n",
    "    file_path = os.path.join(folder_path, model_name+\".pk1\")\n",
    "    \n",
    "   \n",
    "    #save the model\n",
    "    with open(file_path, 'wb') as f:\n",
    "        pickle.dump(model_name , f)\n",
    "        print(\"Model successfully saved\")\n",
    "\n",
    "#FUNCTION FOR RETRIEVING MODEL TRAINED\n",
    "\n",
    "def open_trained_model(modelname):\n",
    "\n",
    "    # create file path\n",
    "    folder_path= r\"C:\\Users\\Utente\\OneDrive\\Desktop\\coding_project2\"\n",
    "    model_name = str(input(\"input model1 name\"))\n",
    "    file_path = os.path.join(folder_path, model_name+\".pk1\")\n",
    "\n",
    "    #load model\n",
    "    pickled_model = pickle.load(open(file_path, 'rb'))"
   ]
  },
  {
   "attachments": {},
   "cell_type": "markdown",
   "id": "fb4514d1",
   "metadata": {},
   "source": [
    "# 3 Undersampling "
   ]
  },
  {
   "attachments": {},
   "cell_type": "markdown",
   "id": "b556dc73",
   "metadata": {},
   "source": [
    "Our primary goal is to build machines that can best classify fraud, and so it is necessary to balance the dataset to focus learning precisely on them.\n",
    "the simplest and computationally lightest method is undersampling: taking all fraudulent transactions and matching them with an equal number of legitimate transactions sampled at random.  \n",
    "This allows us to create a dataset consisting of 50% legitimate transactions and 50% illegitimate transactions at the cost of losing information on legitimate transactions."
   ]
  },
  {
   "cell_type": "code",
   "execution_count": 12,
   "id": "4510020c",
   "metadata": {
    "ExecuteTime": {
     "end_time": "2023-06-07T15:28:41.647166Z",
     "start_time": "2023-06-07T15:28:41.359367Z"
    }
   },
   "outputs": [
    {
     "data": {
      "text/html": [
       "<div>\n",
       "<style scoped>\n",
       "    .dataframe tbody tr th:only-of-type {\n",
       "        vertical-align: middle;\n",
       "    }\n",
       "\n",
       "    .dataframe tbody tr th {\n",
       "        vertical-align: top;\n",
       "    }\n",
       "\n",
       "    .dataframe thead th {\n",
       "        text-align: right;\n",
       "    }\n",
       "</style>\n",
       "<table border=\"1\" class=\"dataframe\">\n",
       "  <thead>\n",
       "    <tr style=\"text-align: right;\">\n",
       "      <th></th>\n",
       "      <th>Class</th>\n",
       "      <th>Amount</th>\n",
       "      <th>Time</th>\n",
       "      <th>V1</th>\n",
       "      <th>V2</th>\n",
       "      <th>V3</th>\n",
       "      <th>V4</th>\n",
       "      <th>V5</th>\n",
       "      <th>V6</th>\n",
       "      <th>V7</th>\n",
       "      <th>...</th>\n",
       "      <th>V19</th>\n",
       "      <th>V20</th>\n",
       "      <th>V21</th>\n",
       "      <th>V22</th>\n",
       "      <th>V23</th>\n",
       "      <th>V24</th>\n",
       "      <th>V25</th>\n",
       "      <th>V26</th>\n",
       "      <th>V27</th>\n",
       "      <th>V28</th>\n",
       "    </tr>\n",
       "  </thead>\n",
       "  <tbody>\n",
       "    <tr>\n",
       "      <th>541</th>\n",
       "      <td>1</td>\n",
       "      <td>0.00</td>\n",
       "      <td>406.0</td>\n",
       "      <td>-2.312227</td>\n",
       "      <td>1.951992</td>\n",
       "      <td>-1.609851</td>\n",
       "      <td>3.997906</td>\n",
       "      <td>-0.522188</td>\n",
       "      <td>-1.426545</td>\n",
       "      <td>-2.537387</td>\n",
       "      <td>...</td>\n",
       "      <td>0.416956</td>\n",
       "      <td>0.126911</td>\n",
       "      <td>0.517232</td>\n",
       "      <td>-0.035049</td>\n",
       "      <td>-0.465211</td>\n",
       "      <td>0.320198</td>\n",
       "      <td>0.044519</td>\n",
       "      <td>0.177840</td>\n",
       "      <td>0.261145</td>\n",
       "      <td>-0.143276</td>\n",
       "    </tr>\n",
       "    <tr>\n",
       "      <th>623</th>\n",
       "      <td>1</td>\n",
       "      <td>529.00</td>\n",
       "      <td>472.0</td>\n",
       "      <td>-3.043541</td>\n",
       "      <td>-3.157307</td>\n",
       "      <td>1.088463</td>\n",
       "      <td>2.288644</td>\n",
       "      <td>1.359805</td>\n",
       "      <td>-1.064823</td>\n",
       "      <td>0.325574</td>\n",
       "      <td>...</td>\n",
       "      <td>0.283345</td>\n",
       "      <td>2.102339</td>\n",
       "      <td>0.661696</td>\n",
       "      <td>0.435477</td>\n",
       "      <td>1.375966</td>\n",
       "      <td>-0.293803</td>\n",
       "      <td>0.279798</td>\n",
       "      <td>-0.145362</td>\n",
       "      <td>-0.252773</td>\n",
       "      <td>0.035764</td>\n",
       "    </tr>\n",
       "    <tr>\n",
       "      <th>4920</th>\n",
       "      <td>1</td>\n",
       "      <td>239.93</td>\n",
       "      <td>4462.0</td>\n",
       "      <td>-2.303350</td>\n",
       "      <td>1.759247</td>\n",
       "      <td>-0.359745</td>\n",
       "      <td>2.330243</td>\n",
       "      <td>-0.821628</td>\n",
       "      <td>-0.075788</td>\n",
       "      <td>0.562320</td>\n",
       "      <td>...</td>\n",
       "      <td>-1.334441</td>\n",
       "      <td>-0.430022</td>\n",
       "      <td>-0.294166</td>\n",
       "      <td>-0.932391</td>\n",
       "      <td>0.172726</td>\n",
       "      <td>-0.087330</td>\n",
       "      <td>-0.156114</td>\n",
       "      <td>-0.542628</td>\n",
       "      <td>0.039566</td>\n",
       "      <td>-0.153029</td>\n",
       "    </tr>\n",
       "  </tbody>\n",
       "</table>\n",
       "<p>3 rows × 31 columns</p>\n",
       "</div>"
      ],
      "text/plain": [
       "      Class  Amount    Time        V1        V2        V3        V4        V5  \\\n",
       "541       1    0.00   406.0 -2.312227  1.951992 -1.609851  3.997906 -0.522188   \n",
       "623       1  529.00   472.0 -3.043541 -3.157307  1.088463  2.288644  1.359805   \n",
       "4920      1  239.93  4462.0 -2.303350  1.759247 -0.359745  2.330243 -0.821628   \n",
       "\n",
       "            V6        V7  ...       V19       V20       V21       V22  \\\n",
       "541  -1.426545 -2.537387  ...  0.416956  0.126911  0.517232 -0.035049   \n",
       "623  -1.064823  0.325574  ...  0.283345  2.102339  0.661696  0.435477   \n",
       "4920 -0.075788  0.562320  ... -1.334441 -0.430022 -0.294166 -0.932391   \n",
       "\n",
       "           V23       V24       V25       V26       V27       V28  \n",
       "541  -0.465211  0.320198  0.044519  0.177840  0.261145 -0.143276  \n",
       "623   1.375966 -0.293803  0.279798 -0.145362 -0.252773  0.035764  \n",
       "4920  0.172726 -0.087330 -0.156114 -0.542628  0.039566 -0.153029  \n",
       "\n",
       "[3 rows x 31 columns]"
      ]
     },
     "execution_count": 12,
     "metadata": {},
     "output_type": "execute_result"
    }
   ],
   "source": [
    "#CREATE TWO EQUAL SAMPLES FOR FRUD AND LEGAL TRANSACTIONS\n",
    "legit_transaction= data[data.Class == 0]\n",
    "fraud_transaction= data[data.Class == 1]\n",
    "\n",
    "sample_fraud_transaction = fraud_transaction\n",
    "\n",
    "sample_legit_transaction = legit_transaction.sample(n=492,\n",
    "                                                    replace= False, #replace false to avoid doubles\n",
    "                                                    random_state = 1)\n",
    "#merge samples\n",
    "data_undersample = pd.concat([sample_fraud_transaction, sample_legit_transaction], axis= 0)\n",
    "\n",
    "data_undersample.head(3)"
   ]
  },
  {
   "attachments": {},
   "cell_type": "markdown",
   "id": "bc30ed04",
   "metadata": {},
   "source": [
    "We then define the train and test set that will remain the same in order to evaluate the various models on the same basis."
   ]
  },
  {
   "cell_type": "code",
   "execution_count": 13,
   "id": "1cba01ed",
   "metadata": {},
   "outputs": [],
   "source": [
    "#define train test set \n",
    "X = data_undersample.drop(columns='Class', axis=1) \n",
    "Y = data_undersample['Class']       \n",
    "\n",
    "x_train , x_test , y_train , y_test = train_test_split (X , Y , test_size = 0.2,\n",
    "                                                        stratify=Y,\n",
    "                                                        random_state = 0)"
   ]
  },
  {
   "attachments": {},
   "cell_type": "markdown",
   "id": "306b57b0",
   "metadata": {},
   "source": [
    "## 3.1 Logistic Model\n"
   ]
  },
  {
   "attachments": {},
   "cell_type": "markdown",
   "id": "475c97dc",
   "metadata": {},
   "source": [
    "To measure the effect of undersampling we can immediately see that our naive logistic regression trained on undersampled data performs better than if trained on the entire dataset, going from 37.6% percent to 35.71% error on frauds."
   ]
  },
  {
   "cell_type": "code",
   "execution_count": 14,
   "id": "f310eda8",
   "metadata": {
    "ExecuteTime": {
     "end_time": "2023-06-07T15:28:47.880346Z",
     "start_time": "2023-06-07T15:28:47.721375Z"
    }
   },
   "outputs": [
    {
     "name": "stdout",
     "output_type": "stream",
     "text": [
      "\u001b[1mConfusion matrix: \u001b[0m\n",
      "        legit prediction  fraud prediction\n",
      "legit                 98                 1\n",
      "fraud                 14                84\n",
      "\n",
      "\u001b[1mAccuracy Score: \u001b[0m\n",
      "92.39 %\n",
      "\n",
      "\u001b[1mPercentage of frauds not detected: \u001b[0m\n",
      "14.29 %\n",
      "\n",
      "\u001b[1mPercentage of false alarms: \u001b[0m\n",
      "1.01 %\n"
     ]
    }
   ],
   "source": [
    "#LOGISTIC MODEL\n",
    "\n",
    "sc = StandardScaler ()\n",
    "x_train = sc.fit_transform ( x_train )\n",
    "x_test = sc.transform ( x_test )\n",
    "\n",
    "\n",
    "logistic_model = model.fit(x_train, y_train)\n",
    "y_pred = logistic_model.predict(x_test)\n",
    "\n",
    "accuracy_measures( y_test , y_pred )"
   ]
  },
  {
   "attachments": {},
   "cell_type": "markdown",
   "id": "e2abdf80",
   "metadata": {},
   "source": [
    "Using Grid Search we can optimize the model by making it even more robust through 5-fold validation,\n",
    "considering that: \n",
    "\n",
    "1. frauds_not_detected is the objective function to be minimized \n",
    "<!-- -->\n",
    "2. The parameters to be optimized are:\n",
    "    * Type of model complexity penalty are L1 (Lasso) or L2 (Ridge) .  \n",
    "    * Penalty coefficient C.  \n",
    "    * solver is only liblinear cause it can works on both L1 and L2 and other solver did not perform better\n",
    "    \n",
    "<!-- -->\n",
    "3. The standardization is applied with a pipeline to not produce data leaks from train to test set \n",
    "<!-- -->\n",
    "4. Cross validation will have 5 folds and is already automatically stratified because it is a binary classification\n",
    "(as reported by the sklearn documentation)\n"
   ]
  },
  {
   "cell_type": "code",
   "execution_count": 15,
   "id": "ed81f9ed",
   "metadata": {
    "ExecuteTime": {
     "end_time": "2023-06-07T15:28:55.703967Z",
     "start_time": "2023-06-07T15:28:55.679982Z"
    }
   },
   "outputs": [],
   "source": [
    "from sklearn.model_selection import GridSearchCV\n",
    "from sklearn.metrics import make_scorer"
   ]
  },
  {
   "cell_type": "code",
   "execution_count": 16,
   "id": "a0491b65",
   "metadata": {},
   "outputs": [],
   "source": [
    "#original train test set\n",
    "x_train , x_test , y_train , y_test = train_test_split (X , Y , test_size = 0.2,\n",
    "                                                        stratify=Y,\n",
    "                                                        random_state = 0)"
   ]
  },
  {
   "cell_type": "code",
   "execution_count": 17,
   "id": "db5ef044",
   "metadata": {
    "ExecuteTime": {
     "end_time": "2023-06-07T15:29:08.408280Z",
     "start_time": "2023-06-07T15:28:56.672879Z"
    }
   },
   "outputs": [
    {
     "name": "stdout",
     "output_type": "stream",
     "text": [
      "Fitting 5 folds for each of 20 candidates, totalling 100 fits\n",
      "\n",
      "\u001b[1m\u001b[4mLogistic Model\u001b[0m\n",
      "\n",
      "\u001b[1mConfusion matrix: \u001b[0m\n",
      "        legit prediction  fraud prediction\n",
      "legit                 98                 1\n",
      "fraud                 13                85\n",
      "\n",
      "\u001b[1mAccuracy Score: \u001b[0m\n",
      "92.89 %\n",
      "\n",
      "\u001b[1mPercentage of frauds not detected: \u001b[0m\n",
      "13.27 %\n",
      "\n",
      "\u001b[1mPercentage of false alarms: \u001b[0m\n",
      "1.01 %\n"
     ]
    }
   ],
   "source": [
    "\n",
    "# Define parameters to optimize\n",
    "C = np.arange(1, 100, 10)\n",
    "\n",
    "param_grid = {'model__penalty': ['l1',\"l2\"], \"model__solver\": [ 'liblinear'], \"model__C\":  C}\n",
    "\n",
    "\n",
    "\n",
    "# Make pipeline to scale during the grid search\n",
    "pipeline = Pipeline([\n",
    "    (\"scaler\", StandardScaler()),\n",
    "    (\"model\", LogisticRegression(random_state=0))\n",
    "])\n",
    "\n",
    "# Create the GridSearch\n",
    "Logistic_model = GridSearchCV(estimator = pipeline,\n",
    "                                 param_grid = param_grid,\n",
    "                                 scoring=make_scorer(frauds_not_detected, greater_is_better=False),\n",
    "                                 n_jobs=-1,\n",
    "                                 cv=5,\n",
    "                                 verbose=2,\n",
    "                                 error_score='raise',\n",
    "                              return_train_score=True)\n",
    "\n",
    "# Fit the grid search on the training data\n",
    "Logistic_model_und = Logistic_model.fit(x_train, y_train)\n",
    "\n",
    "# Make predictions on the test set\n",
    "y_pred_lm_und= Logistic_model_und.predict(x_test)\n",
    "\n",
    "\n",
    "# Calculate accuracy measures\n",
    "print()\n",
    "print('\\033[1m\\033[4mLogistic Model\\033[0m')\n",
    "print()\n",
    "accuracy_measures(y_test, y_pred_lm_und)"
   ]
  },
  {
   "cell_type": "code",
   "execution_count": 59,
   "id": "833ebd22",
   "metadata": {},
   "outputs": [
    {
     "name": "stdout",
     "output_type": "stream",
     "text": [
      "Best parameters are: \n"
     ]
    },
    {
     "data": {
      "text/plain": [
       "{'model__C': 11, 'model__penalty': 'l1', 'model__solver': 'liblinear'}"
      ]
     },
     "execution_count": 59,
     "metadata": {},
     "output_type": "execute_result"
    }
   ],
   "source": [
    "print(\"Best parameters are: \")\n",
    "Logistic_model_und.best_params_"
   ]
  },
  {
   "attachments": {},
   "cell_type": "markdown",
   "id": "75023a10",
   "metadata": {},
   "source": [
    "The model performs better by not identifying 13.27 % percent of fraudulent transactions.  \n",
    "Having used cross valdiation it is more robust and we can trust his results more than just using train and test set.  \n",
    "We can also see that lasso regularization has eliminated some unnecessary variables, those with weight 0:"
   ]
  },
  {
   "cell_type": "code",
   "execution_count": 62,
   "id": "b1412cba",
   "metadata": {
    "ExecuteTime": {
     "end_time": "2023-06-07T15:29:17.722815Z",
     "start_time": "2023-06-07T15:29:17.618975Z"
    }
   },
   "outputs": [
    {
     "name": "stdout",
     "output_type": "stream",
     "text": [
      "Amount    0.542820\n",
      "Time     -0.870023\n",
      "V1        0.473205\n",
      "V2        0.346100\n",
      "V3       -1.480340\n",
      "V4        2.698193\n",
      "V5        1.616306\n",
      "V6       -0.459262\n",
      "V7       -0.861689\n",
      "V8       -2.612254\n",
      "V9       -0.013232\n",
      "V10      -2.693961\n",
      "V11       0.248611\n",
      "V12      -2.914221\n",
      "V13      -0.209636\n",
      "V14      -5.683045\n",
      "V15       0.049889\n",
      "V16      -0.240995\n",
      "V17      -0.963860\n",
      "V18       0.919386\n",
      "V19       0.130647\n",
      "V20      -1.310358\n",
      "V21       0.000000\n",
      "V22       0.981904\n",
      "V23       0.736894\n",
      "V24       0.261214\n",
      "V25      -0.043216\n",
      "V26      -0.122140\n",
      "V27       0.098049\n",
      "V28       0.137774\n",
      "dtype: float64\n",
      "\n",
      "\u001b[1m\u001b[4mVariables omitted by lasso are:\u001b[0m\n",
      "V21    0.0\n",
      "dtype: float64\n"
     ]
    }
   ],
   "source": [
    "# Get the feature weights\n",
    "best_estimator = Logistic_model_und.best_estimator_.named_steps[\"model\"]\n",
    "weights = pd.Series(best_estimator.coef_[0], index=X.columns)\n",
    "\n",
    "print(weights)\n",
    "print(\"\")\n",
    "print('\\033[1m\\033[4mVariables omitted by lasso are:\\033[0m')\n",
    "print(weights[weights== 0])"
   ]
  },
  {
   "attachments": {},
   "cell_type": "markdown",
   "id": "9200c49c",
   "metadata": {},
   "source": [
    "Now we can check for overfitting.  \n",
    "The training accuracy measures are better by a great extend and this could be a signal of overfitting."
   ]
  },
  {
   "cell_type": "code",
   "execution_count": 20,
   "id": "88fb2986",
   "metadata": {},
   "outputs": [
    {
     "name": "stdout",
     "output_type": "stream",
     "text": [
      "\u001b[1m\u001b[4mtraining performance:\u001b[0m\n",
      "\n",
      "\u001b[1mConfusion matrix: \u001b[0m\n",
      "        legit prediction  fraud prediction\n",
      "legit                387                 6\n",
      "fraud                 25               369\n",
      "\n",
      "\u001b[1mAccuracy Score: \u001b[0m\n",
      "96.06 %\n",
      "\n",
      "\u001b[1mPercentage of frauds not detected: \u001b[0m\n",
      "6.35 %\n",
      "\n",
      "\u001b[1mPercentage of false alarms: \u001b[0m\n",
      "1.53 %\n"
     ]
    }
   ],
   "source": [
    "print('\\033[1m\\033[4mtraining performance:\\033[0m')\n",
    "print()\n",
    "\n",
    "train_pred = Logistic_model_und.predict(x_train)\n",
    "accuracy_measures(y_train, train_pred)"
   ]
  },
  {
   "attachments": {},
   "cell_type": "markdown",
   "id": "fc489049",
   "metadata": {},
   "source": [
    "However, during grid search, the distance between training and validation performance does not seem too significant"
   ]
  },
  {
   "cell_type": "code",
   "execution_count": 21,
   "id": "911ca714",
   "metadata": {
    "ExecuteTime": {
     "end_time": "2023-06-07T15:29:19.980396Z",
     "start_time": "2023-06-07T15:29:19.285633Z"
    }
   },
   "outputs": [
    {
     "data": {
      "image/png": "[encoded data removed]",
      "text/plain": [
       "<Figure size 700x300 with 1 Axes>"
      ]
     },
     "metadata": {},
     "output_type": "display_data"
    }
   ],
   "source": [
    "a = Logistic_model_und.cv_results_[\"mean_train_score\"]\n",
    "b = Logistic_model_und.cv_results_[\"mean_test_score\"]\n",
    "\n",
    "plot_training_test_errors(a,b, Logistic_model_und)"
   ]
  },
  {
   "attachments": {},
   "cell_type": "markdown",
   "id": "3855d48f",
   "metadata": {},
   "source": [
    "## 3.2 Randon Forest"
   ]
  },
  {
   "cell_type": "code",
   "execution_count": 22,
   "id": "7cafc53b",
   "metadata": {
    "ExecuteTime": {
     "end_time": "2023-06-07T15:30:34.883566Z",
     "start_time": "2023-06-07T15:30:34.857287Z"
    }
   },
   "outputs": [],
   "source": [
    "from sklearn.ensemble import RandomForestClassifier\n"
   ]
  },
  {
   "attachments": {},
   "cell_type": "markdown",
   "id": "fffe816c",
   "metadata": {},
   "source": [
    "We apply grid search as in the previous case.    \n",
    "Considering that since the forest does not compare variable values but just split them it is not necessary to standardize the data.  \n",
    "The parameters we want to optimize are:\n",
    "  *  number of random trees to build ('model__n_estimators')\n",
    "  *  max depth of the trees('model__max_depth')\n",
    "  *  min samples to make a node split ('model__min_samples_split') \n",
    "  *  min samples to define a leaf ('model__min_samples_leaf')  \n",
    "\n",
    "\n"
   ]
  },
  {
   "cell_type": "code",
   "execution_count": 23,
   "id": "2a7b1ca7",
   "metadata": {
    "ExecuteTime": {
     "end_time": "2023-06-07T15:31:40.600769Z",
     "start_time": "2023-06-07T15:30:36.063406Z"
    }
   },
   "outputs": [
    {
     "name": "stdout",
     "output_type": "stream",
     "text": [
      "Fitting 5 folds for each of 54 candidates, totalling 270 fits\n"
     ]
    },
    {
     "name": "stdout",
     "output_type": "stream",
     "text": [
      "\n",
      "\u001b[1m\u001b[4mRandom Forest\u001b[0m\n",
      "\n",
      "\u001b[1mConfusion matrix: \u001b[0m\n",
      "        legit prediction  fraud prediction\n",
      "legit                 98                 1\n",
      "fraud                 14                84\n",
      "\n",
      "\u001b[1mAccuracy Score: \u001b[0m\n",
      "92.39 %\n",
      "\n",
      "\u001b[1mPercentage of frauds not detected: \u001b[0m\n",
      "14.29 %\n",
      "\n",
      "\u001b[1mPercentage of false alarms: \u001b[0m\n",
      "1.01 %\n"
     ]
    }
   ],
   "source": [
    "# RANOOM FOREST\n",
    "\n",
    "param_grid = {\n",
    "    'n_estimators': [100, 200],\n",
    "    'max_features': ['sqrt'],\n",
    "    'max_depth': [7, 8, 9],\n",
    "    'min_samples_split': [7, 8, 9],\n",
    "    'min_samples_leaf': [1, 2, 3],\n",
    "    'bootstrap': [True]\n",
    "}\n",
    "\n",
    "# GridSearchCV\n",
    "rf_und = GridSearchCV(estimator=RandomForestClassifier(random_state= 0),\n",
    "                      param_grid=param_grid,\n",
    "                      scoring=make_scorer(frauds_not_detected, greater_is_better=False),\n",
    "                      n_jobs=-1,\n",
    "                      cv=5,\n",
    "                      verbose=2,\n",
    "                      error_score='raise',\n",
    "                     return_train_score= True)\n",
    "\n",
    "Random_forest_und = rf_und.fit(x_train, y_train)\n",
    "\n",
    "# make predictions\n",
    "y_pred_rf_und = Random_forest_und.predict(x_test)\n",
    "\n",
    "# Calculate accuracy measures\n",
    "print()\n",
    "print('\\033[1m\\033[4mRandom Forest\\033[0m')\n",
    "print()\n",
    "accuracy_measures(y_test, y_pred_rf_und)\n"
   ]
  },
  {
   "attachments": {},
   "cell_type": "markdown",
   "id": "5f5ceb31",
   "metadata": {},
   "source": [
    "The random forest seems to suffer from overfitting as it always performs better in the training set than in the test set.  \n",
    "This is also visible from the validation train difference in the graph which is greater than in the Logitic model."
   ]
  },
  {
   "cell_type": "code",
   "execution_count": 26,
   "id": "8beec273",
   "metadata": {
    "ExecuteTime": {
     "end_time": "2023-06-07T15:32:05.053481Z",
     "start_time": "2023-06-07T15:32:04.993364Z"
    }
   },
   "outputs": [
    {
     "name": "stdout",
     "output_type": "stream",
     "text": [
      "\u001b[1m\u001b[4mTraining performance:\u001b[0m\n",
      "\n",
      "\u001b[1mConfusion matrix: \u001b[0m\n",
      "        legit prediction  fraud prediction\n",
      "legit                393                 0\n",
      "fraud                 14               380\n",
      "\n",
      "\u001b[1mAccuracy Score: \u001b[0m\n",
      "98.22 %\n",
      "\n",
      "\u001b[1mPercentage of frauds not detected: \u001b[0m\n",
      "3.55 %\n",
      "\n",
      "\u001b[1mPercentage of false alarms: \u001b[0m\n",
      "0.0 %\n"
     ]
    }
   ],
   "source": [
    "\n",
    "print('\\033[1m\\033[4mTraining performance:\\033[0m')\n",
    "print()\n",
    "\n",
    "train_pred = Random_forest_und.predict(x_train)\n",
    "accuracy_measures(y_train, train_pred)\n"
   ]
  },
  {
   "cell_type": "code",
   "execution_count": 60,
   "id": "9715956c",
   "metadata": {},
   "outputs": [
    {
     "data": {
      "image/png": "[encoded data removed]",
      "text/plain": [
       "<Figure size 700x300 with 1 Axes>"
      ]
     },
     "metadata": {},
     "output_type": "display_data"
    }
   ],
   "source": [
    "a = Random_forest_und.cv_results_[\"mean_train_score\"]\n",
    "b = Random_forest_und.cv_results_[\"mean_test_score\"]\n",
    "\n",
    "plot_training_test_errors(a,b, Random_forest_und)"
   ]
  },
  {
   "attachments": {},
   "cell_type": "markdown",
   "id": "8683f904",
   "metadata": {},
   "source": [
    "### Improve Random Forest"
   ]
  },
  {
   "attachments": {},
   "cell_type": "markdown",
   "id": "21886b4c",
   "metadata": {},
   "source": [
    "We can try to reduce the overfitting in the random forest:\n",
    "* increasing the number of trees generated\n",
    "* increasing the min_sample_leaf \n",
    "* using less variables for each trees (log2)"
   ]
  },
  {
   "cell_type": "code",
   "execution_count": 27,
   "id": "afaa85ec",
   "metadata": {
    "ExecuteTime": {
     "end_time": "2023-06-07T15:32:43.667085Z",
     "start_time": "2023-06-07T15:32:15.839151Z"
    }
   },
   "outputs": [
    {
     "name": "stdout",
     "output_type": "stream",
     "text": [
      "Fitting 5 folds for each of 8 candidates, totalling 40 fits\n"
     ]
    },
    {
     "name": "stdout",
     "output_type": "stream",
     "text": [
      "\u001b[1mConfusion matrix: \u001b[0m\n",
      "        legit prediction  fraud prediction\n",
      "legit                 98                 1\n",
      "fraud                 15                83\n",
      "\n",
      "\u001b[1mAccuracy Score: \u001b[0m\n",
      "91.88 %\n",
      "\n",
      "\u001b[1mPercentage of frauds not detected: \u001b[0m\n",
      "15.31 %\n",
      "\n",
      "\u001b[1mPercentage of false alarms: \u001b[0m\n",
      "1.01 %\n"
     ]
    }
   ],
   "source": [
    "#Random forest_und 2\n",
    "param_grid = {\n",
    "    'n_estimators': [200,400],\n",
    "    'max_features': ['log2'],\n",
    "    'max_depth': [6,7],\n",
    "    'min_samples_split': [8],\n",
    "    'min_samples_leaf': [2, 3],\n",
    "    'bootstrap': [True]\n",
    "}\n",
    "\n",
    "# GridSearchCV\n",
    "rf_und = GridSearchCV(estimator=RandomForestClassifier(random_state= 0),\n",
    "                      param_grid=param_grid,\n",
    "                      scoring=make_scorer(frauds_not_detected, greater_is_better=False),\n",
    "                      n_jobs=-1,\n",
    "                      cv=5,\n",
    "                      verbose=2,\n",
    "                      error_score='raise',\n",
    "                     return_train_score= True)\n",
    "\n",
    "Random_forest_und = rf_und.fit(x_train, y_train)\n",
    "\n",
    "# Make predictions on the test set\n",
    "y_pred_rf_und = Random_forest_und.predict(x_test)\n",
    "\n",
    "# Calculate accuracy measures\n",
    "accuracy_measures(y_test, y_pred_rf_und)"
   ]
  },
  {
   "attachments": {},
   "cell_type": "markdown",
   "id": "e776550b",
   "metadata": {},
   "source": [
    "The model does not improve because the error increases in both training and test set,  \n",
    "thereforet he model does not generalizes better, it simply becomes less accurate ."
   ]
  },
  {
   "cell_type": "code",
   "execution_count": 29,
   "id": "24fa13fc",
   "metadata": {},
   "outputs": [
    {
     "name": "stdout",
     "output_type": "stream",
     "text": [
      "\u001b[1mConfusion matrix: \u001b[0m\n",
      "        legit prediction  fraud prediction\n",
      "legit                392                 1\n",
      "fraud                 22               372\n",
      "\n",
      "\u001b[1mAccuracy Score: \u001b[0m\n",
      "97.08 %\n",
      "\n",
      "\u001b[1mPercentage of frauds not detected: \u001b[0m\n",
      "5.58 %\n",
      "\n",
      "\u001b[1mPercentage of false alarms: \u001b[0m\n",
      "0.25 %\n"
     ]
    }
   ],
   "source": [
    "train_pred = Random_forest_und.predict(x_train)\n",
    "accuracy_measures(y_train, train_pred)"
   ]
  },
  {
   "attachments": {},
   "cell_type": "markdown",
   "id": "79d30612",
   "metadata": {},
   "source": [
    "## 3.3 Naive Bayes "
   ]
  },
  {
   "cell_type": "code",
   "execution_count": 30,
   "id": "4dc3a5d2",
   "metadata": {
    "ExecuteTime": {
     "end_time": "2023-06-07T15:32:54.172997Z",
     "start_time": "2023-06-07T15:32:54.147808Z"
    }
   },
   "outputs": [],
   "source": [
    "from sklearn.naive_bayes import GaussianNB\n",
    "from scipy.stats import shapiro"
   ]
  },
  {
   "attachments": {},
   "cell_type": "markdown",
   "id": "3bbeb1fa",
   "metadata": {},
   "source": [
    "The naive bayes we test is the Gaussian naive bayes that allows us to use continuous features without resorting to   discretization.  \n",
    "This model assumes a Gaussian distribution of the data which is present only in one feature of our dataset,  \n",
    " according to the Shapiro-Wilk Test.\n"
   ]
  },
  {
   "cell_type": "code",
   "execution_count": 31,
   "id": "0dbfbf22",
   "metadata": {},
   "outputs": [
    {
     "name": "stdout",
     "output_type": "stream",
     "text": [
      "Variables with normal distribution according to SW theorem:  1\n"
     ]
    }
   ],
   "source": [
    "#counter of normal variables in dataset\n",
    "distributions= []\n",
    "for column in data_undersample.columns:\n",
    "    # p values of shapiro test\n",
    "    stat, p_value = shapiro(data_undersample[column])\n",
    "    # only significant variables are normal\n",
    "    alpha = 0.05  \n",
    "    if p_value > alpha:\n",
    "       distributions.append(\"Normale\")\n",
    "\n",
    "print(\"Variables with normal distribution according to SW theorem: \",len(distributions))\n"
   ]
  },
  {
   "attachments": {},
   "cell_type": "markdown",
   "id": "11d046f6",
   "metadata": {},
   "source": [
    "However, we know from the literature that the model could perform well even without normal distribution of the data, so we will test it.  \n",
    "The only parameter to be optimized is var_smoothing that ensures that even if a feature has a variance close to 0, it will not cause numerical instability during the probability calculations."
   ]
  },
  {
   "cell_type": "code",
   "execution_count": 32,
   "id": "30607ea2",
   "metadata": {
    "ExecuteTime": {
     "end_time": "2023-06-07T15:35:26.490144Z",
     "start_time": "2023-06-07T15:35:20.906559Z"
    }
   },
   "outputs": [
    {
     "name": "stdout",
     "output_type": "stream",
     "text": [
      "Fitting 5 folds for each of 10 candidates, totalling 50 fits\n",
      "\n",
      "\u001b[1m\u001b[4mNaive Bayes\u001b[0m\n",
      "\n",
      "\u001b[1mConfusion matrix: \u001b[0m\n",
      "        legit prediction  fraud prediction\n",
      "legit                 96                 3\n",
      "fraud                 16                82\n",
      "\n",
      "\u001b[1mAccuracy Score: \u001b[0m\n",
      "90.36 %\n",
      "\n",
      "\u001b[1mPercentage of frauds not detected: \u001b[0m\n",
      "16.33 %\n",
      "\n",
      "\u001b[1mPercentage of false alarms: \u001b[0m\n",
      "3.03 %\n"
     ]
    }
   ],
   "source": [
    "# NAIVE BAYES\n",
    "\n",
    "pipeline = Pipeline([\n",
    "    (\"scaler\", StandardScaler()),\n",
    "    (\"model\", GaussianNB())\n",
    "])\n",
    "\n",
    "param_grid = {\n",
    "    \"model__var_smoothing\": np.logspace(0, -9, num=10)\n",
    "}\n",
    "\n",
    "# Create the GridSearchCV\n",
    "gc_und = GridSearchCV(\n",
    "    estimator=pipeline,\n",
    "    param_grid=param_grid,\n",
    "    scoring=make_scorer(frauds_not_detected, greater_is_better=False),\n",
    "    n_jobs=-1,\n",
    "    cv=5,\n",
    "    verbose=2,\n",
    "    error_score='raise',\n",
    "    return_train_score=True)\n",
    "\n",
    "\n",
    "Gaussian_naive_bayes_und = gc_und.fit(x_train, y_train)\n",
    "\n",
    "# Make predictions on the test set\n",
    "y_pred_nb = Gaussian_naive_bayes_und.predict(x_test)\n",
    "\n",
    "# Calculate accuracy measures\n",
    "print()\n",
    "print('\\033[1m\\033[4mNaive Bayes\\033[0m')\n",
    "print()\n",
    "accuracy_measures(y_test, y_pred_nb)\n"
   ]
  },
  {
   "attachments": {},
   "cell_type": "markdown",
   "id": "22869721",
   "metadata": {},
   "source": [
    "The naive bayes seems to be the model that suffers less from overfitting as we can see from the small difference between test and training performance\n",
    "(and from the convergence of training and validation graph)"
   ]
  },
  {
   "cell_type": "code",
   "execution_count": 34,
   "id": "1e66e37e",
   "metadata": {},
   "outputs": [
    {
     "name": "stdout",
     "output_type": "stream",
     "text": [
      "\u001b[1m\u001b[4mTraining performance\u001b[0m\n",
      "\n",
      "\u001b[1mConfusion matrix: \u001b[0m\n",
      "        legit prediction  fraud prediction\n",
      "legit                384                 9\n",
      "fraud                 49               345\n",
      "\n",
      "\u001b[1mAccuracy Score: \u001b[0m\n",
      "92.63 %\n",
      "\n",
      "\u001b[1mPercentage of frauds not detected: \u001b[0m\n",
      "12.44 %\n",
      "\n",
      "\u001b[1mPercentage of false alarms: \u001b[0m\n",
      "2.29 %\n"
     ]
    }
   ],
   "source": [
    "\n",
    "print('\\033[1m\\033[4mTraining performance\\033[0m')\n",
    "print()\n",
    "train_pred = Gaussian_naive_bayes_und.predict(x_train)\n",
    "accuracy_measures(y_train, train_pred)"
   ]
  },
  {
   "cell_type": "code",
   "execution_count": 35,
   "id": "0f4fc58b",
   "metadata": {
    "ExecuteTime": {
     "end_time": "2023-06-07T15:35:34.265123Z",
     "start_time": "2023-06-07T15:35:33.644808Z"
    }
   },
   "outputs": [
    {
     "data": {
      "image/png": "[encoded data removed]",
      "text/plain": [
       "<Figure size 700x300 with 1 Axes>"
      ]
     },
     "metadata": {},
     "output_type": "display_data"
    }
   ],
   "source": [
    "a = Gaussian_naive_bayes_und.cv_results_[\"mean_train_score\"]\n",
    "b = Gaussian_naive_bayes_und.cv_results_[\"mean_test_score\"]\n",
    "\n",
    "plot_training_test_errors(a,b,Gaussian_naive_bayes_und)"
   ]
  },
  {
   "attachments": {},
   "cell_type": "markdown",
   "id": "7fbc157c",
   "metadata": {},
   "source": [
    "### Improve naive bayes"
   ]
  },
  {
   "attachments": {},
   "cell_type": "markdown",
   "id": "a80c48b3",
   "metadata": {},
   "source": [
    "Naive bayes is based on the simplistic assumption of independence between variables.  \n",
    "So we can try to improve it removing variables with very high correlation. "
   ]
  },
  {
   "cell_type": "code",
   "execution_count": 36,
   "id": "1ae60c14",
   "metadata": {
    "ExecuteTime": {
     "end_time": "2023-06-07T15:36:15.452007Z",
     "start_time": "2023-06-07T15:36:15.243075Z"
    }
   },
   "outputs": [
    {
     "data": {
      "text/html": [
       "<div>\n",
       "<style scoped>\n",
       "    .dataframe tbody tr th:only-of-type {\n",
       "        vertical-align: middle;\n",
       "    }\n",
       "\n",
       "    .dataframe tbody tr th {\n",
       "        vertical-align: top;\n",
       "    }\n",
       "\n",
       "    .dataframe thead th {\n",
       "        text-align: right;\n",
       "    }\n",
       "</style>\n",
       "<table border=\"1\" class=\"dataframe\">\n",
       "  <thead>\n",
       "    <tr style=\"text-align: right;\">\n",
       "      <th></th>\n",
       "      <th>V1</th>\n",
       "      <th>V2</th>\n",
       "      <th>V3</th>\n",
       "      <th>V4</th>\n",
       "      <th>V5</th>\n",
       "      <th>V7</th>\n",
       "      <th>V9</th>\n",
       "      <th>V10</th>\n",
       "      <th>V11</th>\n",
       "      <th>V12</th>\n",
       "      <th>V14</th>\n",
       "      <th>V16</th>\n",
       "      <th>V17</th>\n",
       "      <th>V18</th>\n",
       "    </tr>\n",
       "  </thead>\n",
       "  <tbody>\n",
       "    <tr>\n",
       "      <th>V1</th>\n",
       "      <td>NaN</td>\n",
       "      <td>NaN</td>\n",
       "      <td>0.880144</td>\n",
       "      <td>NaN</td>\n",
       "      <td>0.864099</td>\n",
       "      <td>0.879825</td>\n",
       "      <td>NaN</td>\n",
       "      <td>NaN</td>\n",
       "      <td>NaN</td>\n",
       "      <td>NaN</td>\n",
       "      <td>NaN</td>\n",
       "      <td>NaN</td>\n",
       "      <td>NaN</td>\n",
       "      <td>NaN</td>\n",
       "    </tr>\n",
       "    <tr>\n",
       "      <th>V2</th>\n",
       "      <td>NaN</td>\n",
       "      <td>NaN</td>\n",
       "      <td>-0.858676</td>\n",
       "      <td>NaN</td>\n",
       "      <td>NaN</td>\n",
       "      <td>-0.849543</td>\n",
       "      <td>NaN</td>\n",
       "      <td>NaN</td>\n",
       "      <td>NaN</td>\n",
       "      <td>NaN</td>\n",
       "      <td>NaN</td>\n",
       "      <td>NaN</td>\n",
       "      <td>NaN</td>\n",
       "      <td>NaN</td>\n",
       "    </tr>\n",
       "    <tr>\n",
       "      <th>V3</th>\n",
       "      <td>0.880144</td>\n",
       "      <td>-0.858676</td>\n",
       "      <td>NaN</td>\n",
       "      <td>NaN</td>\n",
       "      <td>0.852964</td>\n",
       "      <td>0.886836</td>\n",
       "      <td>NaN</td>\n",
       "      <td>0.852698</td>\n",
       "      <td>NaN</td>\n",
       "      <td>NaN</td>\n",
       "      <td>NaN</td>\n",
       "      <td>NaN</td>\n",
       "      <td>NaN</td>\n",
       "      <td>NaN</td>\n",
       "    </tr>\n",
       "    <tr>\n",
       "      <th>V4</th>\n",
       "      <td>NaN</td>\n",
       "      <td>NaN</td>\n",
       "      <td>NaN</td>\n",
       "      <td>NaN</td>\n",
       "      <td>NaN</td>\n",
       "      <td>NaN</td>\n",
       "      <td>NaN</td>\n",
       "      <td>NaN</td>\n",
       "      <td>NaN</td>\n",
       "      <td>-0.832327</td>\n",
       "      <td>NaN</td>\n",
       "      <td>NaN</td>\n",
       "      <td>NaN</td>\n",
       "      <td>NaN</td>\n",
       "    </tr>\n",
       "    <tr>\n",
       "      <th>V5</th>\n",
       "      <td>0.864099</td>\n",
       "      <td>NaN</td>\n",
       "      <td>0.852964</td>\n",
       "      <td>NaN</td>\n",
       "      <td>NaN</td>\n",
       "      <td>0.836426</td>\n",
       "      <td>NaN</td>\n",
       "      <td>NaN</td>\n",
       "      <td>NaN</td>\n",
       "      <td>NaN</td>\n",
       "      <td>NaN</td>\n",
       "      <td>NaN</td>\n",
       "      <td>NaN</td>\n",
       "      <td>NaN</td>\n",
       "    </tr>\n",
       "    <tr>\n",
       "      <th>V7</th>\n",
       "      <td>0.879825</td>\n",
       "      <td>-0.849543</td>\n",
       "      <td>0.886836</td>\n",
       "      <td>NaN</td>\n",
       "      <td>0.836426</td>\n",
       "      <td>NaN</td>\n",
       "      <td>NaN</td>\n",
       "      <td>0.866785</td>\n",
       "      <td>NaN</td>\n",
       "      <td>NaN</td>\n",
       "      <td>NaN</td>\n",
       "      <td>NaN</td>\n",
       "      <td>NaN</td>\n",
       "      <td>NaN</td>\n",
       "    </tr>\n",
       "    <tr>\n",
       "      <th>V9</th>\n",
       "      <td>NaN</td>\n",
       "      <td>NaN</td>\n",
       "      <td>NaN</td>\n",
       "      <td>NaN</td>\n",
       "      <td>NaN</td>\n",
       "      <td>NaN</td>\n",
       "      <td>NaN</td>\n",
       "      <td>0.847317</td>\n",
       "      <td>NaN</td>\n",
       "      <td>NaN</td>\n",
       "      <td>NaN</td>\n",
       "      <td>NaN</td>\n",
       "      <td>NaN</td>\n",
       "      <td>NaN</td>\n",
       "    </tr>\n",
       "    <tr>\n",
       "      <th>V10</th>\n",
       "      <td>NaN</td>\n",
       "      <td>NaN</td>\n",
       "      <td>0.852698</td>\n",
       "      <td>NaN</td>\n",
       "      <td>NaN</td>\n",
       "      <td>0.866785</td>\n",
       "      <td>0.847317</td>\n",
       "      <td>NaN</td>\n",
       "      <td>-0.803747</td>\n",
       "      <td>0.884165</td>\n",
       "      <td>NaN</td>\n",
       "      <td>0.854633</td>\n",
       "      <td>0.853991</td>\n",
       "      <td>0.802649</td>\n",
       "    </tr>\n",
       "    <tr>\n",
       "      <th>V11</th>\n",
       "      <td>NaN</td>\n",
       "      <td>NaN</td>\n",
       "      <td>NaN</td>\n",
       "      <td>NaN</td>\n",
       "      <td>NaN</td>\n",
       "      <td>NaN</td>\n",
       "      <td>NaN</td>\n",
       "      <td>-0.803747</td>\n",
       "      <td>NaN</td>\n",
       "      <td>-0.903692</td>\n",
       "      <td>-0.891255</td>\n",
       "      <td>-0.807144</td>\n",
       "      <td>NaN</td>\n",
       "      <td>NaN</td>\n",
       "    </tr>\n",
       "    <tr>\n",
       "      <th>V12</th>\n",
       "      <td>NaN</td>\n",
       "      <td>NaN</td>\n",
       "      <td>NaN</td>\n",
       "      <td>-0.832327</td>\n",
       "      <td>NaN</td>\n",
       "      <td>NaN</td>\n",
       "      <td>NaN</td>\n",
       "      <td>0.884165</td>\n",
       "      <td>-0.903692</td>\n",
       "      <td>NaN</td>\n",
       "      <td>0.882138</td>\n",
       "      <td>0.899616</td>\n",
       "      <td>0.879854</td>\n",
       "      <td>0.800467</td>\n",
       "    </tr>\n",
       "    <tr>\n",
       "      <th>V14</th>\n",
       "      <td>NaN</td>\n",
       "      <td>NaN</td>\n",
       "      <td>NaN</td>\n",
       "      <td>NaN</td>\n",
       "      <td>NaN</td>\n",
       "      <td>NaN</td>\n",
       "      <td>NaN</td>\n",
       "      <td>NaN</td>\n",
       "      <td>-0.891255</td>\n",
       "      <td>0.882138</td>\n",
       "      <td>NaN</td>\n",
       "      <td>NaN</td>\n",
       "      <td>NaN</td>\n",
       "      <td>NaN</td>\n",
       "    </tr>\n",
       "    <tr>\n",
       "      <th>V16</th>\n",
       "      <td>NaN</td>\n",
       "      <td>NaN</td>\n",
       "      <td>NaN</td>\n",
       "      <td>NaN</td>\n",
       "      <td>NaN</td>\n",
       "      <td>NaN</td>\n",
       "      <td>NaN</td>\n",
       "      <td>0.854633</td>\n",
       "      <td>-0.807144</td>\n",
       "      <td>0.899616</td>\n",
       "      <td>NaN</td>\n",
       "      <td>NaN</td>\n",
       "      <td>0.952045</td>\n",
       "      <td>0.903236</td>\n",
       "    </tr>\n",
       "    <tr>\n",
       "      <th>V17</th>\n",
       "      <td>NaN</td>\n",
       "      <td>NaN</td>\n",
       "      <td>NaN</td>\n",
       "      <td>NaN</td>\n",
       "      <td>NaN</td>\n",
       "      <td>NaN</td>\n",
       "      <td>NaN</td>\n",
       "      <td>0.853991</td>\n",
       "      <td>NaN</td>\n",
       "      <td>0.879854</td>\n",
       "      <td>NaN</td>\n",
       "      <td>0.952045</td>\n",
       "      <td>NaN</td>\n",
       "      <td>0.936231</td>\n",
       "    </tr>\n",
       "    <tr>\n",
       "      <th>V18</th>\n",
       "      <td>NaN</td>\n",
       "      <td>NaN</td>\n",
       "      <td>NaN</td>\n",
       "      <td>NaN</td>\n",
       "      <td>NaN</td>\n",
       "      <td>NaN</td>\n",
       "      <td>NaN</td>\n",
       "      <td>0.802649</td>\n",
       "      <td>NaN</td>\n",
       "      <td>0.800467</td>\n",
       "      <td>NaN</td>\n",
       "      <td>0.903236</td>\n",
       "      <td>0.936231</td>\n",
       "      <td>NaN</td>\n",
       "    </tr>\n",
       "  </tbody>\n",
       "</table>\n",
       "</div>"
      ],
      "text/plain": [
       "           V1        V2        V3        V4        V5        V7        V9  \\\n",
       "V1        NaN       NaN  0.880144       NaN  0.864099  0.879825       NaN   \n",
       "V2        NaN       NaN -0.858676       NaN       NaN -0.849543       NaN   \n",
       "V3   0.880144 -0.858676       NaN       NaN  0.852964  0.886836       NaN   \n",
       "V4        NaN       NaN       NaN       NaN       NaN       NaN       NaN   \n",
       "V5   0.864099       NaN  0.852964       NaN       NaN  0.836426       NaN   \n",
       "V7   0.879825 -0.849543  0.886836       NaN  0.836426       NaN       NaN   \n",
       "V9        NaN       NaN       NaN       NaN       NaN       NaN       NaN   \n",
       "V10       NaN       NaN  0.852698       NaN       NaN  0.866785  0.847317   \n",
       "V11       NaN       NaN       NaN       NaN       NaN       NaN       NaN   \n",
       "V12       NaN       NaN       NaN -0.832327       NaN       NaN       NaN   \n",
       "V14       NaN       NaN       NaN       NaN       NaN       NaN       NaN   \n",
       "V16       NaN       NaN       NaN       NaN       NaN       NaN       NaN   \n",
       "V17       NaN       NaN       NaN       NaN       NaN       NaN       NaN   \n",
       "V18       NaN       NaN       NaN       NaN       NaN       NaN       NaN   \n",
       "\n",
       "          V10       V11       V12       V14       V16       V17       V18  \n",
       "V1        NaN       NaN       NaN       NaN       NaN       NaN       NaN  \n",
       "V2        NaN       NaN       NaN       NaN       NaN       NaN       NaN  \n",
       "V3   0.852698       NaN       NaN       NaN       NaN       NaN       NaN  \n",
       "V4        NaN       NaN -0.832327       NaN       NaN       NaN       NaN  \n",
       "V5        NaN       NaN       NaN       NaN       NaN       NaN       NaN  \n",
       "V7   0.866785       NaN       NaN       NaN       NaN       NaN       NaN  \n",
       "V9   0.847317       NaN       NaN       NaN       NaN       NaN       NaN  \n",
       "V10       NaN -0.803747  0.884165       NaN  0.854633  0.853991  0.802649  \n",
       "V11 -0.803747       NaN -0.903692 -0.891255 -0.807144       NaN       NaN  \n",
       "V12  0.884165 -0.903692       NaN  0.882138  0.899616  0.879854  0.800467  \n",
       "V14       NaN -0.891255  0.882138       NaN       NaN       NaN       NaN  \n",
       "V16  0.854633 -0.807144  0.899616       NaN       NaN  0.952045  0.903236  \n",
       "V17  0.853991       NaN  0.879854       NaN  0.952045       NaN  0.936231  \n",
       "V18  0.802649       NaN  0.800467       NaN  0.903236  0.936231       NaN  "
      ]
     },
     "execution_count": 36,
     "metadata": {},
     "output_type": "execute_result"
    }
   ],
   "source": [
    "#make correlation table\n",
    "correlation_table= X.corr()\n",
    "\n",
    "#remove variable under 0.8 of correlation\n",
    "for column in correlation_table.columns:\n",
    "    correlation_table[column] = np.where(abs(correlation_table[column]) < 0.8, np.nan, correlation_table[column])\n",
    "\n",
    "#remove the diagonal that has ones\n",
    "for i in correlation_table.columns:\n",
    "    correlation_table[i] = np.where(correlation_table[i]== 1 , np.nan, correlation_table[i])\n",
    "\n",
    "\n",
    "correlation_table= pd.DataFrame(correlation_table)\n",
    "\n",
    "#drop rows full of na\n",
    "correlation_table=correlation_table.dropna(how=\"all\")\n",
    "\n",
    "#drop columns full of na\n",
    "correlation_table= correlation_table.dropna(how=\"all\", axis= 1)\n",
    "correlation_table\n",
    "\n"
   ]
  },
  {
   "cell_type": "code",
   "execution_count": 37,
   "id": "f6f04a3f",
   "metadata": {
    "ExecuteTime": {
     "end_time": "2023-06-07T15:36:22.053897Z",
     "start_time": "2023-06-07T15:36:22.015084Z"
    }
   },
   "outputs": [
    {
     "name": "stdout",
     "output_type": "stream",
     "text": [
      "Variables higly collinear to drop:  ['V16', 'V17']\n"
     ]
    }
   ],
   "source": [
    "to_drop = [column for column in correlation_table.columns if any(correlation_table[column] > 0.95)]\n",
    "\n",
    "print(\"Variables higly collinear to drop: \", to_drop)"
   ]
  },
  {
   "cell_type": "code",
   "execution_count": 38,
   "id": "e0a9e1dc",
   "metadata": {
    "ExecuteTime": {
     "end_time": "2023-06-07T15:36:28.401618Z",
     "start_time": "2023-06-07T15:36:23.592902Z"
    }
   },
   "outputs": [
    {
     "name": "stdout",
     "output_type": "stream",
     "text": [
      "Fitting 5 folds for each of 100 candidates, totalling 500 fits\n",
      "\n",
      "\u001b[1m\u001b[4mNaive Bayes\u001b[0m\n",
      "\n",
      "\u001b[1mConfusion matrix: \u001b[0m\n",
      "        legit prediction  fraud prediction\n",
      "legit                 96                 3\n",
      "fraud                 17                81\n",
      "\n",
      "\u001b[1mAccuracy Score: \u001b[0m\n",
      "89.85 %\n",
      "\n",
      "\u001b[1mPercentage of frauds not detected: \u001b[0m\n",
      "17.35 %\n",
      "\n",
      "\u001b[1mPercentage of false alarms: \u001b[0m\n",
      "3.03 %\n"
     ]
    }
   ],
   "source": [
    "# NAIVE BAYES WITHOUT V16 E V18\n",
    "\n",
    "data_undersample.drop(to_drop, axis= 1)\n",
    "X2 = data_undersample.drop('Class', axis=1) \n",
    "Y2 = data_undersample['Class']       \n",
    "\n",
    "x_train2 , x_test2 , y_train2 , y_test2 = train_test_split (X2 , Y2 , test_size = 0.2,\n",
    "                                                        stratify=Y,\n",
    "                                                        random_state = 0)\n",
    "\n",
    "pipeline = Pipeline([\n",
    "    (\"scaler\", StandardScaler()),\n",
    "    (\"model\", GaussianNB())\n",
    "])\n",
    "\n",
    "param_grid = {\n",
    "    \"model__var_smoothing\": np.logspace(0, -9, num=100)\n",
    "}\n",
    "\n",
    "# Create the GridSearchCV\n",
    "gc_und = GridSearchCV(\n",
    "    estimator=pipeline,\n",
    "    param_grid=param_grid,\n",
    "    scoring=make_scorer(frauds_not_detected, greater_is_better=False),\n",
    "    n_jobs=-1,\n",
    "    cv=5,\n",
    "    verbose=2,\n",
    "    error_score='raise'\n",
    ")\n",
    "# Fit & predict\n",
    "Guassian_naive_bayes_und = gc_und.fit(x_train2, y_train2)\n",
    "y_pred = Guassian_naive_bayes_und.predict(x_test2)\n",
    "\n",
    "# Accuracy measures\n",
    "print()\n",
    "print('\\033[1m\\033[4mNaive Bayes\\033[0m')\n",
    "print()\n",
    "\n",
    "accuracy_measures(y_test2, y_pred)"
   ]
  },
  {
   "cell_type": "code",
   "execution_count": 61,
   "id": "3dee9212",
   "metadata": {},
   "outputs": [
    {
     "name": "stdout",
     "output_type": "stream",
     "text": [
      "\u001b[1m\u001b[4mTraining performance\u001b[0m\n",
      "\n",
      "\u001b[1mConfusion matrix: \u001b[0m\n",
      "        legit prediction  fraud prediction\n",
      "legit                384                 9\n",
      "fraud                 49               345\n",
      "\n",
      "\u001b[1mAccuracy Score: \u001b[0m\n",
      "92.63 %\n",
      "\n",
      "\u001b[1mPercentage of frauds not detected: \u001b[0m\n",
      "12.44 %\n",
      "\n",
      "\u001b[1mPercentage of false alarms: \u001b[0m\n",
      "2.29 %\n"
     ]
    }
   ],
   "source": [
    "\n",
    "print('\\033[1m\\033[4mTraining performance\\033[0m')\n",
    "print()\n",
    "\n",
    "train_pred = Gaussian_naive_bayes_und.predict(x_train)\n",
    "accuracy_measures(y_train2, train_pred)"
   ]
  },
  {
   "attachments": {},
   "cell_type": "markdown",
   "id": "c9b40f18",
   "metadata": {},
   "source": [
    "We did not manage to improve the Naive bayes:  \n",
    "* the percentage of frauds not detected in the training remains the same (12.44%)\n",
    "* The percentage of frauds not detected in the test is worse (from 16.33% to 17.35 %)"
   ]
  },
  {
   "attachments": {},
   "cell_type": "markdown",
   "id": "25bbb8ed",
   "metadata": {},
   "source": [
    "## 3.4 Support Vector Classifier "
   ]
  },
  {
   "cell_type": "code",
   "execution_count": 40,
   "id": "ca313168",
   "metadata": {
    "ExecuteTime": {
     "end_time": "2023-06-07T15:36:59.451933Z",
     "start_time": "2023-06-07T15:36:59.433134Z"
    }
   },
   "outputs": [],
   "source": [
    "from sklearn.svm import SVC  "
   ]
  },
  {
   "attachments": {},
   "cell_type": "markdown",
   "id": "de5e47c0",
   "metadata": {},
   "source": [
    "The last classifier we are going to test is the SVC.  \n",
    "The parameters to be optimized are:\n",
    "1. C : trade off between margin width and misclassification.  \n",
    "    * High C indicates narrower margin and more precise classification.  \n",
    "    * Low C indicates wider margin and less precise classification.\n",
    "2. Kernel function to map the data in a higer dimesnionality  \n",
    "    * linear\n",
    "    * polinomial \n",
    "    * radial\n",
    "3. Degree of the polinomialfucntion (2,3,4)\n",
    "\n"
   ]
  },
  {
   "cell_type": "code",
   "execution_count": 41,
   "id": "77a209bf",
   "metadata": {
    "ExecuteTime": {
     "end_time": "2023-06-07T15:38:45.766243Z",
     "start_time": "2023-06-07T15:38:41.570657Z"
    }
   },
   "outputs": [
    {
     "name": "stdout",
     "output_type": "stream",
     "text": [
      "Fitting 5 folds for each of 162 candidates, totalling 810 fits\n"
     ]
    },
    {
     "name": "stdout",
     "output_type": "stream",
     "text": [
      "\n",
      "\u001b[1m\u001b[4mSVC\u001b[0m\n",
      "\n",
      "\u001b[1mConfusion matrix: \u001b[0m\n",
      "        legit prediction  fraud prediction\n",
      "legit                 98                 1\n",
      "fraud                 14                84\n",
      "\n",
      "\u001b[1mAccuracy Score: \u001b[0m\n",
      "92.39 %\n",
      "\n",
      "\u001b[1mPercentage of frauds not detected: \u001b[0m\n",
      "14.29 %\n",
      "\n",
      "\u001b[1mPercentage of false alarms: \u001b[0m\n",
      "1.01 %\n"
     ]
    }
   ],
   "source": [
    "\n",
    "C= np.arange(1, 10, 0.5, dtype= float)\n",
    "\n",
    "param_grid={\n",
    "    \"model__C\": C,\n",
    "    \"model__kernel\": [\"linear\",\"poly\" ,\"rbf\" ],\n",
    "    \"model__degree\": [2,3,4]}\n",
    "\n",
    "pipeline = Pipeline([\n",
    "    (\"scaler\", StandardScaler()),  \n",
    "    (\"model\", SVC(random_state=0))\n",
    "])\n",
    "# Create the GridSearchCV\n",
    "svc_und = GridSearchCV(\n",
    "    estimator= pipeline,\n",
    "    param_grid=param_grid,\n",
    "    scoring=make_scorer(frauds_not_detected, greater_is_better=False),\n",
    "    n_jobs=-1,\n",
    "    cv=5,\n",
    "    verbose=2,\n",
    "    error_score='raise',\n",
    "    return_train_score=True\n",
    ")\n",
    "\n",
    "SVC_und = svc_und.fit(x_train, y_train)\n",
    "\n",
    "# Make predictions on the test set\n",
    "y_pred_svc = SVC_und.predict(x_test)\n",
    "\n",
    "# Calculate accuracy measures\n",
    "print()\n",
    "print('\\033[1m\\033[4mSVC\\033[0m')\n",
    "print()\n",
    "\n",
    "accuracy_measures(y_test, y_pred_svc)\n"
   ]
  },
  {
   "attachments": {},
   "cell_type": "markdown",
   "id": "bcf62b29",
   "metadata": {},
   "source": [
    "The overfitting risk is high due to the difference between frauds not detected in training (6.35 %) and test (14.29 %).   \n",
    "Morover the validation-train plot shows an high variance path."
   ]
  },
  {
   "cell_type": "code",
   "execution_count": 43,
   "id": "5f43628c",
   "metadata": {},
   "outputs": [
    {
     "name": "stdout",
     "output_type": "stream",
     "text": [
      "\u001b[1m\u001b[4mTraining performance\u001b[0m\n",
      "\n",
      "\u001b[1mConfusion matrix: \u001b[0m\n",
      "        legit prediction  fraud prediction\n",
      "legit                388                 5\n",
      "fraud                 25               369\n",
      "\n",
      "\u001b[1mAccuracy Score: \u001b[0m\n",
      "96.19 %\n",
      "\n",
      "\u001b[1mPercentage of frauds not detected: \u001b[0m\n",
      "6.35 %\n",
      "\n",
      "\u001b[1mPercentage of false alarms: \u001b[0m\n",
      "1.27 %\n"
     ]
    }
   ],
   "source": [
    "print('\\033[1m\\033[4mTraining performance\\033[0m')\n",
    "print()\n",
    "y_pred_svc = SVC_und.predict(x_train)\n",
    "# Calculate accuracy measures\n",
    "accuracy_measures(y_train, y_pred_svc)"
   ]
  },
  {
   "cell_type": "code",
   "execution_count": 44,
   "id": "928c245d",
   "metadata": {
    "ExecuteTime": {
     "end_time": "2023-06-07T15:38:51.645492Z",
     "start_time": "2023-06-07T15:38:51.043734Z"
    }
   },
   "outputs": [
    {
     "data": {
      "image/png": "[encoded data removed]",
      "text/plain": [
       "<Figure size 700x300 with 1 Axes>"
      ]
     },
     "metadata": {},
     "output_type": "display_data"
    }
   ],
   "source": [
    "a = SVC_und.cv_results_[\"mean_train_score\"]\n",
    "b = SVC_und.cv_results_[\"mean_test_score\"]\n",
    "\n",
    "plot_training_test_errors(a,b,SVC_und)"
   ]
  },
  {
   "attachments": {},
   "cell_type": "markdown",
   "id": "bd7e0ac3",
   "metadata": {},
   "source": [
    "# 4 Identify the best model"
   ]
  },
  {
   "attachments": {},
   "cell_type": "markdown",
   "id": "ede8f927",
   "metadata": {},
   "source": [
    "Identifying the best model is not easy and requires a small paragraph aside.  \n",
    "The table below shows that in terms of accuracy the best models are the Random Forest and Logistic (92.89 % accuracy).  \n",
    "If we want also to consider the minimal difference in training and test set as hint of less risk in overfitting we can state that probably the best model   is the Logistic (best accuracy and second smallest difference in train and test set)."
   ]
  },
  {
   "cell_type": "code",
   "execution_count": 45,
   "id": "eeb03807",
   "metadata": {},
   "outputs": [
    {
     "name": "stdout",
     "output_type": "stream",
     "text": [
      "+---------------+------------------+-------------------+------------+\n",
      "|               | accuracy in test | accuracy in train | difference |\n",
      "+---------------+------------------+-------------------+------------+\n",
      "|   Logistic    |      92.89       |       96.06       |    3.17    |\n",
      "| Random Forest |      92.89       |       97.97       |    5.08    |\n",
      "|  Naive Bayes  |      90.36       |       92.63       |    2.27    |\n",
      "|      SVC      |      92.39       |       96.19       |    3.8     |\n",
      "+---------------+------------------+-------------------+------------+\n"
     ]
    }
   ],
   "source": [
    "import tabulate as tabulate\n",
    "accuracy= {\n",
    "    \"accuracy in test\": [92.89, 92.89, 90.36,92.39],\n",
    "    \"accuracy in train\": [96.06,97.97,92.63,96.19],   \n",
    "}\n",
    "df_acc = pd.DataFrame(accuracy, index=['Logistic', 'Random Forest',\"Naive Bayes\", \"SVC\"])\n",
    "\n",
    "#add difference column\n",
    "df_acc[\"difference\"] = df_acc[\"accuracy in train\"]- df_acc[\"accuracy in test\"]\n",
    "df_acc = df_acc.round(2)\n",
    "#pretty print \n",
    "table = tabulate.tabulate(df_acc, headers=\"keys\", tablefmt=\"pretty\")\n",
    "print(table)"
   ]
  },
  {
   "attachments": {},
   "cell_type": "markdown",
   "id": "d5094b76",
   "metadata": {},
   "source": [
    "Even if we compare the models solely on the basis of unidentified fraud probably the logistic model remains the best  \n",
    "(smallest error and second smallest difference).\n",
    "Moreover, in this case the random forest seems to suffer from overfitting,\n",
    "and this strengthens our hypothesis that logistic regression is better for this type of problem."
   ]
  },
  {
   "cell_type": "code",
   "execution_count": 46,
   "id": "7fa9dff7",
   "metadata": {},
   "outputs": [
    {
     "name": "stdout",
     "output_type": "stream",
     "text": [
      "+---------------+---------------+----------------+------------+\n",
      "|               | error in test | error in train | difference |\n",
      "+---------------+---------------+----------------+------------+\n",
      "|   Logistic    |     13.27     |      6.35      |    6.92    |\n",
      "| Random Forest |     14.29     |      3.55      |   10.74    |\n",
      "|  Naive Bayes  |     16.33     |     12.44      |    3.89    |\n",
      "|      SVC      |     14.29     |      6.35      |    7.94    |\n",
      "+---------------+---------------+----------------+------------+\n"
     ]
    }
   ],
   "source": [
    "\n",
    "models_err= {\n",
    "    \"error in test\": [13.27, 14.29, 16.33, 14.29 ],\n",
    "    \"error in train\": [6.35, 3.55, 12.44, 6.35],\n",
    "}\n",
    "df_err = pd.DataFrame(models_err, index=['Logistic', 'Random Forest',\"Naive Bayes\", \"SVC\"])\n",
    "df_err[\"difference\"] = df_err[\"error in test\"]- df_err[\"error in train\"]\n",
    "df_err = df_err.round(2)\n",
    "table2 = tabulate.tabulate(df_err, headers=\"keys\", tablefmt=\"pretty\")\n",
    "print(table2)"
   ]
  },
  {
   "attachments": {},
   "cell_type": "markdown",
   "id": "0b46bc83",
   "metadata": {},
   "source": [
    "# 5 Weighted Undersampling\n",
    "\n",
    "To conclude our analysis, we need to test whether the large data loss due to undersample has worsened the models by seeing if our conclusions change using more data.\n",
    "Themost famous alternative sampling methods could be:\n",
    "* Oversampling: oversampling the minority class to create a balanced dataset.\n",
    "* Weights: apply weights inversely proportional to class frequency. \n",
    "* SMOTE: oversampling by creating new data.\n",
    "\n",
    "The problem, unfortunately, is that:  \n",
    "* Oversampling or use the whole dataset with weights lengthens the training time of models too much  \n",
    "* SMOTE method creates new data but we don't know the variables in our dataset so we could generate misleading data points  \n",
    "\n",
    "The fourth way could be \n",
    "undersampling with a 1:100 ratio of legit and frauds transactions, weighing the data inversely with respect to their class frequency.\n",
    "This allows to:   \n",
    "* increases the dataset  \n",
    "* have less computationally expensive training  \n",
    "\n",
    "N.B. To reduce the training time some parameters are already changed according to the previous results.\n",
    "\n",
    "The final result of this operation is summarized in the tables in the conclusion."
   ]
  },
  {
   "cell_type": "code",
   "execution_count": 47,
   "id": "56015848",
   "metadata": {},
   "outputs": [],
   "source": [
    "     \n",
    "#load data \n",
    "data= pd.read_csv(r\"C:\\Users\\Utente\\OneDrive\\Desktop\\coding_project2\\creditcard.csv\")\n",
    "\n",
    "Amount = data[\"Amount\"]\n",
    "Class = data[\"Class\"]\n",
    "data.pop(\"Class\")\n",
    "data.pop(\"Amount\")\n",
    "data.insert(0,\"Amount\", Amount)\n",
    "data.insert(0, \"Class\", Class)\n",
    "data.head(2)\n",
    "\n",
    "legit_transaction= data[data.Class == 0]\n",
    "fraud_transaction= data[data.Class == 1]\n",
    "\n",
    "\n",
    "\n",
    "# UNDERSAMPLING  with diff ratio\n",
    "sample_fraud_transaction = fraud_transaction\n",
    "\n",
    "n = 100\n",
    "N = 492 * n\n",
    "sample_legit_transaction = legit_transaction.sample(n= N,\n",
    "                                                    replace= False, #replace false to avoid doubleS\n",
    "                                                    random_state = 0)\n",
    "\n",
    "data_undersample = pd.concat([sample_fraud_transaction, sample_legit_transaction], axis= 0)\n",
    "\n",
    "#train test split\n",
    "X = data_undersample.drop(columns='Class', axis=1) #use std features\n",
    "Y = data_undersample['Class']      "
   ]
  },
  {
   "attachments": {},
   "cell_type": "markdown",
   "id": "30f470e4",
   "metadata": {},
   "source": [
    "## 5.1 Weighted Logistic Model "
   ]
  },
  {
   "cell_type": "code",
   "execution_count": 48,
   "id": "706c0d2b",
   "metadata": {},
   "outputs": [
    {
     "name": "stdout",
     "output_type": "stream",
     "text": [
      "Fitting 5 folds for each of 4 candidates, totalling 20 fits\n",
      "\n",
      "\u001b[1m\u001b[4mLogistic Model wei\u001b[0m\n",
      "\n",
      "\u001b[1mConfusion matrix: \u001b[0m\n",
      "        legit prediction  fraud prediction\n",
      "legit                 98                 1\n",
      "fraud                 13                85\n",
      "\n",
      "\u001b[1mAccuracy Score: \u001b[0m\n",
      "92.89 %\n",
      "\n",
      "\u001b[1mPercentage of frauds not detected: \u001b[0m\n",
      "13.27 %\n",
      "\n",
      "\u001b[1mPercentage of false alarms: \u001b[0m\n",
      "1.01 %\n"
     ]
    }
   ],
   "source": [
    "\n",
    "# Define parameters to optimize\n",
    "\n",
    "C = [3,6,7,10]\n",
    "\n",
    "param_grid = {'model__penalty': ['l1'], \"model__solver\": [ 'liblinear'], \"model__C\": C}\n",
    "\n",
    "                    \n",
    "\n",
    "# Make pipeline to scale during the grid search\n",
    "pipeline = Pipeline([\n",
    "    (\"scaler\", StandardScaler()),\n",
    "    (\"model\", LogisticRegression(random_state=0,\n",
    "                                class_weight=\"balanced\"))  #add class weight\n",
    "])\n",
    "\n",
    "\n",
    "# Create the GridSearch\n",
    "Logistic_model = GridSearchCV(estimator=pipeline,\n",
    "                                param_grid=param_grid,\n",
    "                                scoring=make_scorer(frauds_not_detected, greater_is_better=False),\n",
    "                                n_jobs=-1,\n",
    "                                cv=5,\n",
    "                                verbose=2,\n",
    "                                error_score='raise',\n",
    "                              return_train_score=True)\n",
    "# Fit the grid search on the training data\n",
    "Logistic_model_wei = Logistic_model.fit(x_train, y_train)\n",
    "\n",
    "# Make predictions on the test set\n",
    "y_pred_lm_wei= Logistic_model_wei.predict(x_test)\n",
    "\n",
    "# Calculate accuracy measure\n",
    "print()\n",
    "print('\\033[1m\\033[4mLogistic Model wei\\033[0m')\n",
    "print()\n",
    "accuracy_measures(y_test, y_pred_lm_wei)\n",
    "a = Logistic_model_wei.cv_results_[\"mean_train_score\"]\n",
    "b = Logistic_model_wei.cv_results_[\"mean_test_score\"]\n",
    "\n",
    "\n"
   ]
  },
  {
   "cell_type": "code",
   "execution_count": 49,
   "id": "14035a7d",
   "metadata": {},
   "outputs": [
    {
     "name": "stdout",
     "output_type": "stream",
     "text": [
      "\u001b[1m\u001b[4mTraining performance\u001b[0m\n",
      "\n",
      "\u001b[1mConfusion matrix: \u001b[0m\n",
      "        legit prediction  fraud prediction\n",
      "legit                388                 5\n",
      "fraud                 25               369\n",
      "\n",
      "\u001b[1mAccuracy Score: \u001b[0m\n",
      "96.19 %\n",
      "\n",
      "\u001b[1mPercentage of frauds not detected: \u001b[0m\n",
      "6.35 %\n",
      "\n",
      "\u001b[1mPercentage of false alarms: \u001b[0m\n",
      "1.27 %\n"
     ]
    }
   ],
   "source": [
    "# accuracy measures training set\n",
    "print('\\033[1m\\033[4mTraining performance\\033[0m')\n",
    "print()\n",
    "train_pred = Logistic_model_wei.predict(x_train)\n",
    "accuracy_measures(y_train, train_pred)"
   ]
  },
  {
   "attachments": {},
   "cell_type": "markdown",
   "id": "464392a5",
   "metadata": {},
   "source": [
    "## 5.2 Weighted Random Forest "
   ]
  },
  {
   "cell_type": "code",
   "execution_count": 50,
   "id": "c8c362b0",
   "metadata": {},
   "outputs": [
    {
     "name": "stdout",
     "output_type": "stream",
     "text": [
      "Fitting 5 folds for each of 1 candidates, totalling 5 fits\n"
     ]
    }
   ],
   "source": [
    "\n",
    "param_grid = {\n",
    "    'n_estimators': [200],\n",
    "    'max_features': ['sqrt'],\n",
    "    'max_depth': [7],\n",
    "    'min_samples_split': [7],\n",
    "    'min_samples_leaf': [2],\n",
    "    'bootstrap': [True]\n",
    "}\n",
    "# GridSearchCV\n",
    "rf_wei = GridSearchCV(estimator = RandomForestClassifier(random_state = 0 ,class_weight=\"balanced\"),\n",
    "            param_grid=param_grid,\n",
    "            scoring=make_scorer(frauds_not_detected, greater_is_better=False),\n",
    "            n_jobs=-1,\n",
    "            cv=5,\n",
    "            verbose=2,\n",
    "            error_score='raise',\n",
    "            return_train_score= True)\n",
    "\n",
    "Random_forest_wei = rf_wei.fit(x_train, y_train)\n",
    "\n",
    "# Make predictions on the test set\n",
    "y_pred_rf_wei = Random_forest_wei.predict(x_test)\n"
   ]
  },
  {
   "cell_type": "code",
   "execution_count": 51,
   "id": "b1050cf9",
   "metadata": {},
   "outputs": [
    {
     "name": "stdout",
     "output_type": "stream",
     "text": [
      "\n",
      "\u001b[1m\u001b[4mRandom Forest wei\u001b[0m\n",
      "\n",
      "\u001b[1mConfusion matrix: \u001b[0m\n",
      "        legit prediction  fraud prediction\n",
      "legit                 98                 1\n",
      "fraud                 15                83\n",
      "\n",
      "\u001b[1mAccuracy Score: \u001b[0m\n",
      "91.88 %\n",
      "\n",
      "\u001b[1mPercentage of frauds not detected: \u001b[0m\n",
      "15.31 %\n",
      "\n",
      "\u001b[1mPercentage of false alarms: \u001b[0m\n",
      "1.01 %\n"
     ]
    }
   ],
   "source": [
    "\n",
    "# accuracy test set \n",
    "print()\n",
    "print('\\033[1m\\033[4mRandom Forest wei\\033[0m')\n",
    "print()\n",
    "accuracy_measures(y_test, y_pred_rf_wei)\n",
    "\n",
    "a = Random_forest_wei.cv_results_[\"mean_train_score\"]\n",
    "b = Random_forest_wei.cv_results_[\"mean_test_score\"]\n",
    "\n"
   ]
  },
  {
   "cell_type": "code",
   "execution_count": 52,
   "id": "9b8e932f",
   "metadata": {},
   "outputs": [
    {
     "name": "stdout",
     "output_type": "stream",
     "text": [
      "\u001b[1m\u001b[4mTraining performance\u001b[0m\n",
      "\n",
      "\u001b[1mConfusion matrix: \u001b[0m\n",
      "        legit prediction  fraud prediction\n",
      "legit                392                 1\n",
      "fraud                 18               376\n",
      "\n",
      "\u001b[1mAccuracy Score: \u001b[0m\n",
      "97.59 %\n",
      "\n",
      "\u001b[1mPercentage of frauds not detected: \u001b[0m\n",
      "4.57 %\n",
      "\n",
      "\u001b[1mPercentage of false alarms: \u001b[0m\n",
      "0.25 %\n"
     ]
    }
   ],
   "source": [
    "# accuracy measures training set\n",
    "print('\\033[1m\\033[4mTraining performance\\033[0m')\n",
    "print()\n",
    "y_pred_rf_wei = Random_forest_wei.predict(x_train)\n",
    "\n",
    "accuracy_measures(y_train, y_pred_rf_wei)"
   ]
  },
  {
   "attachments": {},
   "cell_type": "markdown",
   "id": "10b4c53f",
   "metadata": {},
   "source": [
    "## 5.3 Weighted Naive bayes"
   ]
  },
  {
   "cell_type": "code",
   "execution_count": 53,
   "id": "b4277c20",
   "metadata": {},
   "outputs": [
    {
     "name": "stdout",
     "output_type": "stream",
     "text": [
      "Fitting 5 folds for each of 10 candidates, totalling 50 fits\n",
      "\n",
      "\u001b[1m\u001b[4mNaive Bayes wei\u001b[0m\n",
      "\n",
      "\u001b[1mConfusion matrix: \u001b[0m\n",
      "        legit prediction  fraud prediction\n",
      "legit                 96                 3\n",
      "fraud                 16                82\n",
      "\n",
      "\u001b[1mAccuracy Score: \u001b[0m\n",
      "90.36 %\n",
      "\n",
      "\u001b[1mPercentage of frauds not detected: \u001b[0m\n",
      "16.33 %\n",
      "\n",
      "\u001b[1mPercentage of false alarms: \u001b[0m\n",
      "3.03 %\n"
     ]
    }
   ],
   "source": [
    "# NAIVE BAYES wei\n",
    "\n",
    "pipeline = Pipeline([\n",
    "    (\"scaler\", StandardScaler()),\n",
    "    (\"model\", GaussianNB())\n",
    "])\n",
    "\n",
    "param_grid = {\n",
    "    \"model__var_smoothing\": np.logspace(0, -9, num=10)\n",
    "}\n",
    "\n",
    "# Create the GridSearchCV\n",
    "gc_wei = GridSearchCV(\n",
    "    estimator=pipeline,\n",
    "    param_grid=param_grid,\n",
    "    scoring=make_scorer(frauds_not_detected, greater_is_better=False),\n",
    "    n_jobs=-1,\n",
    "    cv=5,\n",
    "    verbose=2,\n",
    "    error_score='raise',\n",
    "    return_train_score=True)\n",
    "\n",
    "\n",
    "Gaussian_naive_bayes_wei = gc_wei.fit(x_train, y_train)\n",
    "\n",
    "# Make predictions on the test set\n",
    "y_pred_nb = Gaussian_naive_bayes_wei.predict(x_test)\n",
    "\n",
    "# Calculate accuracy measures\n",
    "print()\n",
    "print('\\033[1m\\033[4mNaive Bayes wei\\033[0m')\n",
    "print()\n",
    "accuracy_measures(y_test, y_pred_nb)"
   ]
  },
  {
   "cell_type": "code",
   "execution_count": 54,
   "id": "a20f9b66",
   "metadata": {},
   "outputs": [
    {
     "name": "stdout",
     "output_type": "stream",
     "text": [
      "\u001b[1m\u001b[4mTraining performance\u001b[0m\n",
      "\n",
      "\u001b[1mConfusion matrix: \u001b[0m\n",
      "        legit prediction  fraud prediction\n",
      "legit                384                 9\n",
      "fraud                 49               345\n",
      "\n",
      "\u001b[1mAccuracy Score: \u001b[0m\n",
      "92.63 %\n",
      "\n",
      "\u001b[1mPercentage of frauds not detected: \u001b[0m\n",
      "12.44 %\n",
      "\n",
      "\u001b[1mPercentage of false alarms: \u001b[0m\n",
      "2.29 %\n"
     ]
    }
   ],
   "source": [
    "# accuracy measures training set\n",
    "print('\\033[1m\\033[4mTraining performance\\033[0m')\n",
    "print()\n",
    "y_pred_nb = Gaussian_naive_bayes_wei.predict(x_train)\n",
    "accuracy_measures(y_train, y_pred_nb)"
   ]
  },
  {
   "attachments": {},
   "cell_type": "markdown",
   "id": "9b63f4b3",
   "metadata": {},
   "source": [
    "## 5.4 Weighted SVC"
   ]
  },
  {
   "cell_type": "code",
   "execution_count": 55,
   "id": "214fc2c3",
   "metadata": {},
   "outputs": [
    {
     "name": "stdout",
     "output_type": "stream",
     "text": [
      "Fitting 5 folds for each of 3 candidates, totalling 15 fits\n",
      "\n",
      "\u001b[1m\u001b[4mSVC weiCV\u001b[0m\n",
      "\n",
      "\u001b[1mConfusion matrix: \u001b[0m\n",
      "        legit prediction  fraud prediction\n",
      "legit                 98                 1\n",
      "fraud                 14                84\n",
      "\n",
      "\u001b[1mAccuracy Score: \u001b[0m\n",
      "92.39 %\n",
      "\n",
      "\u001b[1mPercentage of frauds not detected: \u001b[0m\n",
      "14.29 %\n",
      "\n",
      "\u001b[1mPercentage of false alarms: \u001b[0m\n",
      "1.01 %\n"
     ]
    }
   ],
   "source": [
    "from sklearn.svm import SVC \n",
    "C= np.arange(4, 10, 2, dtype= float)\n",
    "\n",
    "\n",
    "param_grid = {\n",
    "    \"model__C\": C,\n",
    "    \"model__kernel\": [\"linear\"]\n",
    "}\n",
    "pipeline = Pipeline([\n",
    "    (\"scaler\", StandardScaler()),  \n",
    "    (\"model\", SVC(random_state=0,\n",
    "                  class_weight= 'balanced'))\n",
    "])\n",
    "# Create the GridSearchCV\n",
    "svc_wei = GridSearchCV(\n",
    "    estimator= pipeline,\n",
    "    param_grid=param_grid,\n",
    "    scoring=make_scorer(frauds_not_detected, greater_is_better=False),\n",
    "    n_jobs=-1,\n",
    "    cv=5,\n",
    "    verbose=2,\n",
    "    error_score='raise',\n",
    "    return_train_score=True\n",
    ")\n",
    "\n",
    "SVC_wei = svc_wei.fit(x_train, y_train)\n",
    "\n",
    "# Make predictions on the test set\n",
    "y_pred_svc = SVC_wei.predict(x_test)\n",
    "\n",
    "# Calculate accuracy measures\n",
    "print()\n",
    "print('\\033[1m\\033[4mSVC weiCV\\033[0m')\n",
    "print()\n",
    "accuracy_measures(y_test, y_pred_svc)\n",
    "\n",
    "a = Gaussian_naive_bayes_wei.cv_results_[\"mean_train_score\"]\n",
    "b = Gaussian_naive_bayes_wei.cv_results_[\"mean_test_score\"]\n",
    "\n"
   ]
  },
  {
   "cell_type": "code",
   "execution_count": 56,
   "id": "03394a0e",
   "metadata": {},
   "outputs": [
    {
     "name": "stdout",
     "output_type": "stream",
     "text": [
      "\u001b[1m\u001b[4mTraining performance\u001b[0m\n",
      "\n",
      "\u001b[1mConfusion matrix: \u001b[0m\n",
      "        legit prediction  fraud prediction\n",
      "legit                388                 5\n",
      "fraud                 25               369\n",
      "\n",
      "\u001b[1mAccuracy Score: \u001b[0m\n",
      "96.19 %\n",
      "\n",
      "\u001b[1mPercentage of frauds not detected: \u001b[0m\n",
      "6.35 %\n",
      "\n",
      "\u001b[1mPercentage of false alarms: \u001b[0m\n",
      "1.27 %\n"
     ]
    }
   ],
   "source": [
    "# accuracy measures training set\n",
    "print('\\033[1m\\033[4mTraining performance\\033[0m')\n",
    "print()\n",
    "y_pred_svc = SVC_wei.predict(x_train)\n",
    "accuracy_measures(y_train, y_pred_svc)"
   ]
  },
  {
   "attachments": {},
   "cell_type": "markdown",
   "id": "1e24e814",
   "metadata": {},
   "source": [
    "# 6 Conclusion"
   ]
  },
  {
   "attachments": {},
   "cell_type": "markdown",
   "id": "bbb6f048",
   "metadata": {},
   "source": [
    "Even trying to use more data using weighted undersampling with ratio 1:100 the conclusions do not change,  \n",
    " as we can see from the table below."
   ]
  },
  {
   "cell_type": "code",
   "execution_count": 57,
   "id": "725710d8",
   "metadata": {},
   "outputs": [
    {
     "name": "stdout",
     "output_type": "stream",
     "text": [
      "+---------------+------------------+-------------------+------------+\n",
      "|               | accuracy in test | accuracy in train | difference |\n",
      "+---------------+------------------+-------------------+------------+\n",
      "|   Logistic    |      92.89       |       96.06       |    3.17    |\n",
      "| Random Forest |      92.89       |       97.97       |    5.08    |\n",
      "|  Naive Bayes  |      90.36       |       92.63       |    2.27    |\n",
      "|      SVC      |      92.39       |       96.19       |    3.8     |\n",
      "+---------------+------------------+-------------------+------------+\n"
     ]
    }
   ],
   "source": [
    "accuracy_wei= {\n",
    "    \"accuracy in test\": [92.89, 91.88, 90.36, 92.39],\n",
    "    \"accuracy in train\": [96.19,97.59,92.63, 96.19],   \n",
    "}\n",
    "df_acc_wei = pd.DataFrame(accuracy_wei, index=['Logistic', 'Random Forest',\"Naive Bayes\", \"SVC\"])\n",
    "#add difference column\n",
    "df_acc_wei[\"difference\"] = df_acc_wei[\"accuracy in train\"]- df_acc_wei[\"accuracy in test\"]\n",
    "df_acc_wei = df_acc.round(2)\n",
    "#pretty print \n",
    "table = tabulate.tabulate(df_acc, headers=\"keys\", tablefmt=\"pretty\")\n",
    "print(table)\n",
    "\n"
   ]
  },
  {
   "cell_type": "code",
   "execution_count": 58,
   "id": "1986d6bd",
   "metadata": {},
   "outputs": [
    {
     "name": "stdout",
     "output_type": "stream",
     "text": [
      "+---------------+---------------+----------------+------------+\n",
      "|               | error in test | error in train | difference |\n",
      "+---------------+---------------+----------------+------------+\n",
      "|   Logistic    |     13.27     |      6.35      |    6.92    |\n",
      "| Random Forest |     14.29     |      3.55      |   10.74    |\n",
      "|  Naive Bayes  |     16.33     |     12.44      |    3.89    |\n",
      "|      SVC      |     14.29     |      6.35      |    7.94    |\n",
      "+---------------+---------------+----------------+------------+\n"
     ]
    }
   ],
   "source": [
    "models_err= {\n",
    "    \"error in test\": [13.27, 15.31, 16.33, 14.29 ],\n",
    "    \"error in train\": [6.35, 4.57, 12.44, 6.35],\n",
    "}\n",
    "df_err_wei = pd.DataFrame(models_err, index=['Logistic', 'Random Forest',\"Naive Bayes\", \"SVC\"])\n",
    "#add difference column\n",
    "df_err_wei[\"difference\"] = df_err_wei[\"error in test\"]- df_err_wei[\"error in train\"]\n",
    "df_err_wei = df_err.round(2)\n",
    "table2 = tabulate.tabulate(df_err_wei, headers=\"keys\", tablefmt=\"pretty\")\n",
    "print(table2)"
   ]
  },
  {
   "attachments": {},
   "cell_type": "markdown",
   "id": "8bfbda1e",
   "metadata": {},
   "source": [
    "We can therefore conclude that the Logistic model obtained with the Gridsearch is the best of our models  \n",
    "and is the one we would adopt to identify the frauds."
   ]
  }
 ],
 "metadata": {
  "hide_input": false,
  "kernelspec": {
   "display_name": "Python 3 (ipykernel)",
   "language": "python",
   "name": "python3"
  },
  "language_info": {
   "codemirror_mode": {
    "name": "ipython",
    "version": 3
   },
   "file_extension": ".py",
   "mimetype": "text/x-python",
   "name": "python",
   "nbconvert_exporter": "python",
   "pygments_lexer": "ipython3",
   "version": "3.9.13"
  },
  "nbTranslate": {
   "displayLangs": [
    "*"
   ],
   "hotkey": "alt-t",
   "langInMainMenu": true,
   "sourceLang": "en",
   "targetLang": "fr",
   "useGoogleTranslate": true
  },
  "toc": {
   "base_numbering": 1,
   "nav_menu": {},
   "number_sections": true,
   "sideBar": true,
   "skip_h1_title": false,
   "title_cell": "Table of Contents",
   "title_sidebar": "Contents",
   "toc_cell": false,
   "toc_position": {
    "height": "calc(100% - 180px)",
    "left": "10px",
    "top": "150px",
    "width": "188.09px"
   },
   "toc_section_display": true,
   "toc_window_display": true
  },
  "varInspector": {
   "cols": {
    "lenName": 16,
    "lenType": 16,
    "lenVar": 40
   },
   "kernels_config": {
    "python": {
     "delete_cmd_postfix": "",
     "delete_cmd_prefix": "del ",
     "library": "var_list.py",
     "varRefreshCmd": "print(var_dic_list())"
    },
    "r": {
     "delete_cmd_postfix": ") ",
     "delete_cmd_prefix": "rm(",
     "library": "var_list.r",
     "varRefreshCmd": "cat(var_dic_list()) "
    }
   },
   "types_to_exclude": [
    "module",
    "function",
    "builtin_function_or_method",
    "instance",
    "_Feature"
   ],
   "window_display": false
  }
 },
 "nbformat": 4,
 "nbformat_minor": 5
}
